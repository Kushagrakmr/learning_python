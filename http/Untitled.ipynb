{
 "cells": [
  {
   "cell_type": "code",
   "execution_count": 1,
   "metadata": {},
   "outputs": [],
   "source": [
    "import requests"
   ]
  },
  {
   "cell_type": "code",
   "execution_count": 14,
   "metadata": {},
   "outputs": [],
   "source": [
    "url = \"https://www.hackerrank.com/\" \n",
    "res = requests.get(url)"
   ]
  },
  {
   "cell_type": "code",
   "execution_count": 15,
   "metadata": {},
   "outputs": [
    {
     "data": {
      "text/plain": [
       "True"
      ]
     },
     "execution_count": 15,
     "metadata": {},
     "output_type": "execute_result"
    }
   ],
   "source": [
    "res.ok"
   ]
  },
  {
   "cell_type": "code",
   "execution_count": 16,
   "metadata": {},
   "outputs": [
    {
     "data": {
      "text/plain": [
       "{'Content-Type': 'text/html; charset=UTF-8', 'Server': 'nginx/1.16.1', 'Pragma': 'no-cache', 'X-Frame-Options': 'SAMEORIGIN', 'X-XSS-Protection': '1', 'X-Content-Type-Options': 'nosniff', 'Link': '<https://www.hackerrank.com/>; rel=shortlink', 'Vary': 'Accept-Encoding', 'Content-Encoding': 'gzip', 'Content-Length': '13749', 'testing-property-hr': 'wordpress2-test-hr', 'Cache-Control': 'max-age=848', 'Expires': 'Mon, 02 Dec 2019 17:19:52 GMT', 'Date': 'Mon, 02 Dec 2019 17:05:44 GMT', 'Connection': 'keep-alive', 'Strict-Transport-Security': 'max-age=15768000 ; preload'}"
      ]
     },
     "execution_count": 16,
     "metadata": {},
     "output_type": "execute_result"
    }
   ],
   "source": [
    "res.headers"
   ]
  },
  {
   "cell_type": "code",
   "execution_count": 17,
   "metadata": {},
   "outputs": [
    {
     "data": {
      "text/plain": [
       "'<!doctype html>\\n<!-- First they ignore you, then they laugh at you, then they fight you, then you win. - Mohandas Karamchand Gandhi -->\\n<html lang=\"en-US\">\\n<head>\\n\\t<meta charset=\"UTF-8\">\\n\\t<meta name=\"viewport\" content=\"width=device-width, initial-scale=1\">\\n\\t<link rel=\"profile\" href=\"https://gmpg.org/xfn/11\">\\n\\n    <!-- Anti-flicker snippet (recommended)  -->\\n    <style>.async-hide { opacity: 0 !important} </style>\\n    <script>(function(a,s,y,n,c,h,i,d,e){s.className+=\\' \\'+y;h.start=1*new Date;\\n    h.end=i=function(){s.className=s.className.replace(RegExp(\\' ?\\'+y),\\'\\')};\\n    (a[n]=a[n]||[]).hide=h;setTimeout(function(){i();h.end=null},c);h.timeout=c;\\n    })(window,document.documentElement,\\'async-hide\\',\\'dataLayer\\',4000,\\n    {\\'GTM-PX2ZJF2\\':true});</script>\\n\\n    <!-- Google Tag Manager -->\\n    <script>(function(w,d,s,l,i){w[l]=w[l]||[];w[l].push({\\'gtm.start\\':\\n    new Date().getTime(),event:\\'gtm.js\\'});var f=d.getElementsByTagName(s)[0],\\n    j=d.createElement(s),dl=l!=\\'dataLayer\\'?\\'&l=\\'+l:\\'\\';j.async=true;j.src=\\n    \\'https://www.googletagmanager.com/gtm.js?id=\\'+i+dl;f.parentNode.insertBefore(j,f);\\n    })(window,document,\\'script\\',\\'dataLayer\\',\\'GTM-PX2ZJF2\\');</script>\\n    <!-- End Google Tag Manager -->\\n\\t\\n\\t<title>HackerRank</title>\\n\\n<!-- This site is optimized with the Yoast SEO Premium plugin v11.7 - https://yoast.com/wordpress/plugins/seo/ -->\\n<meta name=\"description\" content=\"Join over 7 million developers. Practice coding, prepare for interviews, and get hired.\"/>\\n<link rel=\"canonical\" href=\"https://www.hackerrank.com/\" />\\n<meta property=\"og:locale\" content=\"en_US\" />\\n<meta property=\"og:type\" content=\"website\" />\\n<meta property=\"og:title\" content=\"HackerRank\" />\\n<meta property=\"og:description\" content=\"Join over 7 million developers. Practice coding, prepare for interviews, and get hired.\" />\\n<meta property=\"og:url\" content=\"https://www.hackerrank.com/\" />\\n<meta property=\"og:site_name\" content=\"HackerRank\" />\\n<meta property=\"og:image\" content=\"https://www.hackerrank.com/wp-content/uploads/2019/07/hackerrank_share-image_0_default_20190722.png\" />\\n<meta property=\"og:image:secure_url\" content=\"https://www.hackerrank.com/wp-content/uploads/2019/07/hackerrank_share-image_0_default_20190722.png\" />\\n<meta property=\"og:image:width\" content=\"1385\" />\\n<meta property=\"og:image:height\" content=\"700\" />\\n<meta name=\"twitter:card\" content=\"summary_large_image\" />\\n<meta name=\"twitter:description\" content=\"Join over 7 million developers. Practice coding, prepare for interviews, and get hired.\" />\\n<meta name=\"twitter:title\" content=\"HackerRank\" />\\n<meta name=\"twitter:site\" content=\"@hackerrank\" />\\n<meta name=\"twitter:image\" content=\"https://www.hackerrank.com/wp-content/uploads/2019/07/hackerrank_share-image_0_default_20190722.png\" />\\n<meta name=\"twitter:creator\" content=\"@hackerrank\" />\\n<script type=\\'application/ld+json\\' class=\\'yoast-schema-graph yoast-schema-graph--main\\'>{\"@context\":\"https://schema.org\",\"@graph\":[{\"@type\":\"Organization\",\"@id\":\"https://www.hackerrank.com/#organization\",\"name\":\"HackerRank\",\"url\":\"https://www.hackerrank.com/\",\"sameAs\":[\"https://www.facebook.com/hackerrank/\",\"https://www.instagram.com/hackerrank/\",\"https://www.linkedin.com/company/hackerrank\",\"https://twitter.com/hackerrank\"],\"logo\":{\"@type\":\"ImageObject\",\"@id\":\"https://www.hackerrank.com/#logo\",\"url\":\"https://www.hackerrank.com/wp-content/uploads/2018/08/hackerrank_logo.png\",\"width\":334,\"height\":36,\"caption\":\"HackerRank\"},\"image\":{\"@id\":\"https://www.hackerrank.com/#logo\"}},{\"@type\":\"WebSite\",\"@id\":\"https://www.hackerrank.com/#website\",\"url\":\"https://www.hackerrank.com/\",\"name\":\"HackerRank\",\"publisher\":{\"@id\":\"https://www.hackerrank.com/#organization\"},\"potentialAction\":{\"@type\":\"SearchAction\",\"target\":\"https://www.hackerrank.com/?s={search_term_string}\",\"query-input\":\"required name=search_term_string\"}},{\"@type\":\"ImageObject\",\"@id\":\"https://www.hackerrank.com/#primaryimage\",\"url\":\"https://www.hackerrank.com/wp-content/uploads/2019/07/hackerrank_share-image_0_default_20190722.png\",\"width\":1385,\"height\":700},{\"@type\":\"WebPage\",\"@id\":\"https://www.hackerrank.com/#webpage\",\"url\":\"https://www.hackerrank.com/\",\"inLanguage\":\"en-US\",\"name\":\"HackerRank\",\"isPartOf\":{\"@id\":\"https://www.hackerrank.com/#website\"},\"about\":{\"@id\":\"https://www.hackerrank.com/#organization\"},\"primaryImageOfPage\":{\"@id\":\"https://www.hackerrank.com/#primaryimage\"},\"datePublished\":\"2018-06-22T13:20:52+00:00\",\"dateModified\":\"2019-11-21T04:56:02+00:00\",\"description\":\"Join over 7 million developers. Practice coding, prepare for interviews, and get hired.\"}]}</script>\\n<!-- / Yoast SEO Premium plugin. -->\\n\\n<link rel=\\'dns-prefetch\\' href=\\'//www.hackerrank.com\\' />\\n<link rel=\\'dns-prefetch\\' href=\\'//cdnjs.cloudflare.com\\' />\\n<link rel=\\'dns-prefetch\\' href=\\'//fonts.googleapis.com\\' />\\n<link rel=\\'dns-prefetch\\' href=\\'//s.w.org\\' />\\n<link href=\\'https://fonts.gstatic.com\\' crossorigin rel=\\'preconnect\\' />\\n<link rel=\"alternate\" type=\"application/rss+xml\" title=\"HackerRank &raquo; Feed\" href=\"https://www.hackerrank.com/feed/\" />\\n<link rel=\"alternate\" type=\"application/rss+xml\" title=\"HackerRank &raquo; Comments Feed\" href=\"https://www.hackerrank.com/comments/feed/\" />\\n\\t\\t<script type=\"text/javascript\">\\n\\t\\t\\twindow._wpemojiSettings = {\"baseUrl\":\"https:\\\\/\\\\/s.w.org\\\\/images\\\\/core\\\\/emoji\\\\/12.0.0-1\\\\/72x72\\\\/\",\"ext\":\".png\",\"svgUrl\":\"https:\\\\/\\\\/s.w.org\\\\/images\\\\/core\\\\/emoji\\\\/12.0.0-1\\\\/svg\\\\/\",\"svgExt\":\".svg\",\"source\":{\"concatemoji\":\"https:\\\\/\\\\/www.hackerrank.com\\\\/wp-includes\\\\/js\\\\/wp-emoji-release.min.js?ver=5.2.4\"}};\\n\\t\\t\\t!function(a,b,c){function d(a,b){var c=String.fromCharCode;l.clearRect(0,0,k.width,k.height),l.fillText(c.apply(this,a),0,0);var d=k.toDataURL();l.clearRect(0,0,k.width,k.height),l.fillText(c.apply(this,b),0,0);var e=k.toDataURL();return d===e}function e(a){var b;if(!l||!l.fillText)return!1;switch(l.textBaseline=\"top\",l.font=\"600 32px Arial\",a){case\"flag\":return!(b=d([55356,56826,55356,56819],[55356,56826,8203,55356,56819]))&&(b=d([55356,57332,56128,56423,56128,56418,56128,56421,56128,56430,56128,56423,56128,56447],[55356,57332,8203,56128,56423,8203,56128,56418,8203,56128,56421,8203,56128,56430,8203,56128,56423,8203,56128,56447]),!b);case\"emoji\":return b=d([55357,56424,55356,57342,8205,55358,56605,8205,55357,56424,55356,57340],[55357,56424,55356,57342,8203,55358,56605,8203,55357,56424,55356,57340]),!b}return!1}function f(a){var c=b.createElement(\"script\");c.src=a,c.defer=c.type=\"text/javascript\",b.getElementsByTagName(\"head\")[0].appendChild(c)}var g,h,i,j,k=b.createElement(\"canvas\"),l=k.getContext&&k.getContext(\"2d\");for(j=Array(\"flag\",\"emoji\"),c.supports={everything:!0,everythingExceptFlag:!0},i=0;i<j.length;i++)c.supports[j[i]]=e(j[i]),c.supports.everything=c.supports.everything&&c.supports[j[i]],\"flag\"!==j[i]&&(c.supports.everythingExceptFlag=c.supports.everythingExceptFlag&&c.supports[j[i]]);c.supports.everythingExceptFlag=c.supports.everythingExceptFlag&&!c.supports.flag,c.DOMReady=!1,c.readyCallback=function(){c.DOMReady=!0},c.supports.everything||(h=function(){c.readyCallback()},b.addEventListener?(b.addEventListener(\"DOMContentLoaded\",h,!1),a.addEventListener(\"load\",h,!1)):(a.attachEvent(\"onload\",h),b.attachEvent(\"onreadystatechange\",function(){\"complete\"===b.readyState&&c.readyCallback()})),g=c.source||{},g.concatemoji?f(g.concatemoji):g.wpemoji&&g.twemoji&&(f(g.twemoji),f(g.wpemoji)))}(window,document,window._wpemojiSettings);\\n\\t\\t</script>\\n\\t\\t<style type=\"text/css\">\\nimg.wp-smiley,\\nimg.emoji {\\n\\tdisplay: inline !important;\\n\\tborder: none !important;\\n\\tbox-shadow: none !important;\\n\\theight: 1em !important;\\n\\twidth: 1em !important;\\n\\tmargin: 0 .07em !important;\\n\\tvertical-align: -0.1em !important;\\n\\tbackground: none !important;\\n\\tpadding: 0 !important;\\n}\\n</style>\\n\\t<link rel=\\'stylesheet\\' id=\\'wp-block-library-css\\'  href=\\'https://www.hackerrank.com/wp-includes/css/dist/block-library/style.min.css?ver=5.2.4\\' type=\\'text/css\\' media=\\'all\\' />\\n<link rel=\\'stylesheet\\' id=\\'fl-builder-layout-71-css\\'  href=\\'https://www.hackerrank.com/wp-content/uploads/bb-plugin/cache/71-layout.css?ver=f1027f1e3521b7a68a68de1a7ac6bf2b\\' type=\\'text/css\\' media=\\'all\\' />\\n<link rel=\\'stylesheet\\' id=\\'hackerrank-custom-style-css\\'  href=\\'https://www.hackerrank.com/wp-content/themes/hackerrank/assets/css/style.css?ver=1574294186\\' type=\\'text/css\\' media=\\'all\\' />\\n<link rel=\\'stylesheet\\' id=\\'hr-google-fonts-css\\'  href=\\'https://fonts.googleapis.com/css?family=Open+Sans%3A400%2C600%2C600i%2C700%7CSource+Code+Pro%3A300%2C400%2C600%2C700&#038;ver=5.2.4\\' type=\\'text/css\\' media=\\'all\\' />\\n<link rel=\\'stylesheet\\' id=\\'hackerrank-style-css\\'  href=\\'https://www.hackerrank.com/wp-content/themes/hackerrank/style.css?ver=1574294169\\' type=\\'text/css\\' media=\\'all\\' />\\n<link rel=\\'stylesheet\\' id=\\'animate-css\\'  href=\\'https://www.hackerrank.com/wp-content/plugins/bbpowerpack/assets/css/animate.min.css?ver=3.5.1\\' type=\\'text/css\\' media=\\'all\\' />\\n<link rel=\\'stylesheet\\' id=\\'fl-builder-google-fonts-5ab9de72eb2a8ecd09936bd636558796-css\\'  href=\\'https://fonts.googleapis.com/css?family=Open+Sans%3A600&#038;ver=5.2.4\\' type=\\'text/css\\' media=\\'all\\' />\\n<script type=\\'text/javascript\\' src=\\'https://www.hackerrank.com/wp-includes/js/jquery/jquery.js?ver=1.12.4-wp\\'></script>\\n<script type=\\'text/javascript\\' src=\\'https://www.hackerrank.com/wp-includes/js/jquery/jquery-migrate.min.js?ver=1.4.1\\'></script>\\n<script type=\\'text/javascript\\' src=\\'https://www.hackerrank.com/wp-content/themes/hackerrank/js/jquery.mobile.custom.min.js?ver=5.2.4\\'></script>\\n<script type=\\'text/javascript\\' src=\\'https://www.hackerrank.com/wp-content/themes/hackerrank/js/focus-visible.min.js?ver=5.2.4\\'></script>\\n<meta name=\"generator\" content=\"WordPress 5.2.4\" />\\n<link rel=\\'shortlink\\' href=\\'https://www.hackerrank.com/\\' />\\n\\t\\t<style type=\"text/css\">.recentcomments a{display:inline !important;padding:0 !important;margin:0 !important;}</style>\\n\\t\\t<link rel=\"icon\" href=\"https://www.hackerrank.com/wp-content/uploads/2018/07/hackerrank-favicon.png\" sizes=\"32x32\" />\\n<link rel=\"icon\" href=\"https://www.hackerrank.com/wp-content/uploads/2018/07/hackerrank-favicon.png\" sizes=\"192x192\" />\\n<link rel=\"apple-touch-icon-precomposed\" href=\"https://www.hackerrank.com/wp-content/uploads/2018/07/hackerrank-favicon.png\" />\\n<meta name=\"msapplication-TileImage\" content=\"https://www.hackerrank.com/wp-content/uploads/2018/07/hackerrank-favicon.png\" />\\n    <!-- start Mixpanel -->\\r\\n<script type=\"text/javascript\">(function(e,a){if(!a.__SV){var b=window;try{var c,l,i,j=b.location,g=j.hash;c=function(a,b){return(l=a.match(RegExp(b+\"=([^&]*)\")))?l[1]:null};g&&c(g,\"state\")&&(i=JSON.parse(decodeURIComponent(c(g,\"state\"))),\"mpeditor\"===i.action&&(b.sessionStorage.setItem(\"_mpcehash\",g),history.replaceState(i.desiredHash||\"\",e.title,j.pathname+j.search)))}catch(m){}var k,h;window.mixpanel=a;a._i=[];a.init=function(b,c,f){function e(b,a){var c=a.split(\".\");2==c.length&&(b=b[c[0]],a=c[1]);b[a]=function(){b.push([a].concat(Array.prototype.slice.call(arguments,\\r\\n0)))}}var d=a;\"undefined\"!==typeof f?d=a[f]=[]:f=\"mixpanel\";d.people=d.people||[];d.toString=function(b){var a=\"mixpanel\";\"mixpanel\"!==f&&(a+=\".\"+f);b||(a+=\" (stub)\");return a};d.people.toString=function(){return d.toString(1)+\".people (stub)\"};k=\"disable time_event track track_pageview track_links track_forms register register_once alias unregister identify name_tag set_config reset opt_in_tracking opt_out_tracking has_opted_in_tracking has_opted_out_tracking clear_opt_in_out_tracking people.set people.set_once people.unset people.increment people.append people.union people.track_charge people.clear_charges people.delete_user\".split(\" \");\\r\\nfor(h=0;h<k.length;h++)e(d,k[h]);a._i.push([b,c,f])};a.__SV=1.2;b=e.createElement(\"script\");b.type=\"text/javascript\";b.async=!0;b.src=\"undefined\"!==typeof MIXPANEL_CUSTOM_LIB_URL?MIXPANEL_CUSTOM_LIB_URL:\"file:\"===e.location.protocol&&\"//cdn4.mxpnl.com/libs/mixpanel-2-latest.min.js\".match(/^\\\\/\\\\//)?\"https://cdn4.mxpnl.com/libs/mixpanel-2-latest.min.js\":\"//cdn4.mxpnl.com/libs/mixpanel-2-latest.min.js\";c=e.getElementsByTagName(\"script\")[0];c.parentNode.insertBefore(b,c)}})(document,window.mixpanel||[]);\\r\\nmixpanel.init(\"bcb75af88bccc92724ac5fd79271e1ff\");</script>\\r\\n<!-- end Mixpanel -->      <!-- jsCookies -->\\r\\n        <script type=\"text/javascript\">\\r\\n      if(function(factory){if(\"function\"==typeof define&&define.amd)define(factory);else if(\"object\"==typeof exports)module.exports=factory();else{var OldCookies=window.Cookies,api=window.Cookies=factory();api.noConflict=function(){return window.Cookies=OldCookies,api}}}(function(){function extend(){for(var i=0,result={};i<arguments.length;i++){var attributes=arguments[i];for(var key in attributes)result[key]=attributes[key]}return result}function init(converter){function api(key,value,attributes){var result;if(\"undefined\"!=typeof document){if(arguments.length>1){if(attributes=extend({path:\"/\"},api.defaults,attributes),\"number\"==typeof attributes.expires){var expires=new Date;expires.setMilliseconds(expires.getMilliseconds()+864e5*attributes.expires),attributes.expires=expires}try{result=JSON.stringify(value),/^[\\\\{\\\\[]/.test(result)&&(value=result)}catch(e){}return value=converter.write?converter.write(value,key):encodeURIComponent(String(value)).replace(/%(23|24|26|2B|3A|3C|3E|3D|2F|3F|40|5B|5D|5E|60|7B|7D|7C)/g,decodeURIComponent),key=encodeURIComponent(String(key)),key=key.replace(/%(23|24|26|2B|5E|60|7C)/g,decodeURIComponent),key=key.replace(/[\\\\(\\\\)]/g,escape),document.cookie=[key,\"=\",value,attributes.expires&&\"; expires=\"+attributes.expires.toUTCString(),attributes.path&&\"; path=\"+attributes.path,attributes.domain&&\"; domain=\"+attributes.domain,attributes.secure?\"; secure\":\"\"].join(\"\")}key||(result={});for(var cookies=document.cookie?document.cookie.split(\"; \"):[],rdecode=/(%[0-9A-Z]{2})+/g,i=0;i<cookies.length;i++){var parts=cookies[i].split(\"=\"),cookie=parts.slice(1).join(\"=\");\\'\"\\'===cookie.charAt(0)&&(cookie=cookie.slice(1,-1));try{var name=parts[0].replace(rdecode,decodeURIComponent);if(cookie=converter.read?converter.read(cookie,name):converter(cookie,name)||cookie.replace(rdecode,decodeURIComponent),this.json)try{cookie=JSON.parse(cookie)}catch(e){}if(key===name){result=cookie;break}key||(result[name]=cookie)}catch(e){}}return result}}return api.set=api,api.get=function(key){return api(key)},api.getJSON=function(){return api.apply({json:!0},[].slice.call(arguments))},api.defaults={},api.remove=function(key,attributes){api(key,\"\",extend(attributes,{expires:-1}))},api.withConverter=init,api}return init(function(){})}),\"undefined\"==typeof jsCookies&&\"undefined\"!=typeof Cookies)var jsCookies={get:function(c_name){return Cookies.get(c_name)},set:function(c_name,value,expiredays,expirehours,expiremins,expiresecs,options){var exdate=new Date;exdate.setDate(exdate.getDate()+(expiredays||0)),exdate.setHours(exdate.getHours()+(expirehours||0)),exdate.setMinutes(exdate.getMinutes()+(expiremins||0)),exdate.setSeconds(exdate.getSeconds()+(expiresecs||0));var set_expire_time=!(null==expiredays&&null==expiresecs&&null==expiremins&&null==expirehours),config=options||{};set_expire_time&&(config.expires=exdate),Cookies.set(c_name,value,config)},check:function(c_name){return!!Cookies.get(c_name)},destroy:function(c_name){Cookies.remove(c_name)}};\\r\\n</script>\\r\\n      <!-- end jsCookies --><!-- hr_metrics -->\\r\\n  <script type=\"text/javascript\">\\r\\n! function(obj) {\\r\\n    window.hr_metrics = obj, obj.externalService = function(event_type, event_value, attrs, service) {\\r\\n        attrs = \"undefined\" != typeof attrs ? attrs : {}, attrs.session_id = jsCookies.get(\"session_id\"), service = \"undefined\" != typeof service ? service : \"mixpanel:heap\", external_services = service.split(\":\"), -1 != jQuery.inArray(\"mixpanel\", external_services) && mixpanel.push([event_type, event_value, attrs]), -1 != jQuery.inArray(\"heap\", external_services) && \"track\" == event_type && heap.track(event_value, attrs)\\r\\n    }, obj.track = function(event_name, event_value, attrs) {\\r\\n        metrics_endpoint = \"https://metrics.hackerrank.com/metrics\", window.HR && window.HR.development && (metrics_endpoint = \"/metrics\"), common_attrs = {\\r\\n            session_id: jsCookies.get(\"session_id\")\\r\\n        }, attrs = jQuery.extend({}, attrs, common_attrs), jQuery.ajax({\\r\\n            type: \"POST\",\\r\\n            url: metrics_endpoint,\\r\\n            crossDomain: !0,\\r\\n            xhrFields: {\\r\\n                withCredentials: !0\\r\\n            },\\r\\n            data: {\\r\\n                event_name: event_name,\\r\\n                event_value: event_value,\\r\\n                uid: jsCookies.get(\"hackerrank_mixpanel_token\"),\\r\\n                uid_token: jsCookies.get(\"metrics_user_identifier\"),\\r\\n                params: attrs\\r\\n            }\\r\\n        })\\r\\n    }, obj.track_dwell_time = function(pathname) {\\r\\n        if (window.navigation_data && window.navigation_data.page == pathname) {\\r\\n            var time_now = (new Date).getTime();\\r\\n            hr_metrics.track(\"DwellTime\", pathname, {\\r\\n                attribute7: parseInt((time_now - (window.navigation_data.time || time_now)) / 1e3)\\r\\n            })\\r\\n        }\\r\\n    }, obj.set_navigation_data = function(pathname) {\\r\\n        window.navigation_data = {\\r\\n            page: pathname || document.location.pathname,\\r\\n            time: (new Date).getTime()\\r\\n        }\\r\\n    }, obj.set_scrolling_data = function() {\\r\\n        var _pathname = document.location.pathname,\\r\\n            _window_height = $(window).height(),\\r\\n            _document_height = $(document).height(),\\r\\n            _scrollable_height = _document_height - _window_height + 1,\\r\\n            _scrolled_height = $(document).scrollTop(),\\r\\n            _scrolled_percentage = parseInt(100 * _scrolled_height / _scrollable_height);\\r\\n        (!hr_metrics.scroll_data || hr_metrics.scroll_data.pathname != _pathname || hr_metrics.scroll_data.scrolled_percentage < _scrolled_percentage || hr_metrics.scroll_data.scrolled_height < _scrolled_height) && (hr_metrics.scroll_data = {\\r\\n            pathname: _pathname,\\r\\n            scrollable_height: _scrollable_height,\\r\\n            scrolled_height: _scrolled_height,\\r\\n            scrolled_percentage: _scrolled_percentage,\\r\\n            window_height: _window_height,\\r\\n            document_percentage: 100 * (_window_height + _scrolled_height) / (_document_height + 1),\\r\\n            scroll_tracked: !1\\r\\n        })\\r\\n    }\\r\\n}(window.hr_metrics || {}),\\r\\nfunction() {\\r\\n    \"function\" == typeof $ && $(document).ready(function() {\\r\\n        var _pathname = document.location.pathname;\\r\\n        window.HR = window.HR || {};\\r\\n        if (hr_metrics.track(\"PageLoad\", _pathname + document.location.search, {\\r\\n                attribute1: _pathname\\r\\n            }), hr_metrics.track_dwell_time && (hr_metrics.track_dwell_time(_pathname), hr_metrics.set_navigation_data()), $(window).on(\"beforeunload\", function() {\\r\\n                var _pathname = document.location.pathname;\\r\\n                hr_metrics.track(\"PageClose\", _pathname + document.location.search, {\\r\\n                    attribute2: _pathname\\r\\n                }), hr_metrics.track_dwell_time && hr_metrics.track_dwell_time(_pathname), window.HR && window.HR.time_to_solve && window.HR.time_to_solve.finish && window.HR.time_to_solve.finish(), window.typingTimeout && (window.clearTimeout(window.typingTimeout), window.triggerTypingEvent && window.typingEventEnabled && window.triggerTypingEvent())\\r\\n            }), window.HR.pause_event = function() {\\r\\n                window.HR && window.HR.time_to_solve && window.HR.time_to_solve.pause && window.HR.time_to_solve.pause()\\r\\n            }, window.HR.unpause_event = function() {\\r\\n                window.HR && window.HR.time_to_solve && window.HR.time_to_solve.unpause && window.HR.time_to_solve.unpause()\\r\\n            }, window.HR.throttled_time_to_solve_unpause = _.throttle(function() {\\r\\n                window.HR && window.HR.time_to_solve && (window.HR.time_to_solve.paused && window.HR.time_to_solve.unpause(), window.HR.time_to_solve.update(), window.HR.time_to_solve_timeout && window.clearTimeout(window.HR.time_to_solve_timeout), window.HR.time_to_solve_timeout = window.setTimeout(function() {\\r\\n                    window.HR && window.HR.pause_event && window.HR.pause_event()\\r\\n                }, 3e4))\\r\\n            }, 2e3), $(window).on(\"blur\", function() {\\r\\n                window.HR.pause_event()\\r\\n            }), $(window).on(\"focus\", function() {\\r\\n                window.HR.unpause_event()\\r\\n            }), $(window).on(\"keydown mousemove scroll\", function() {\\r\\n                window.HR.throttled_time_to_solve_unpause()\\r\\n            }), \"function\" == typeof _) {\\r\\n            var throttled_scroll = _.throttle(function() {\\r\\n                    hr_metrics.set_scrolling_data(), hr_metrics.scroll_data && !hr_metrics.scroll_data.scroll_tracked && (hr_metrics.scroll_data.scroll_tracked = !0, hr_metrics.track(\"PageScroll\", hr_metrics.scroll_data.pathname + document.location.search, {\\r\\n                        attribute1: hr_metrics.scroll_data.pathname,\\r\\n                        attribute2: hr_metrics.scroll_data.window_height,\\r\\n                        attribute7: hr_metrics.scroll_data.scrolled_percentage,\\r\\n                        attribute8: hr_metrics.scroll_data.scrolled_height,\\r\\n                        attribute9: hr_metrics.scroll_data.scrollable_height,\\r\\n                        attribute10: hr_metrics.scroll_data.document_percentage\\r\\n                    }))\\r\\n                }, 2e3),\\r\\n                throttled_data_set = _.throttle(hr_metrics.set_scrolling_data, 200);\\r\\n            $(window).on(\"scroll\", function() {\\r\\n                throttled_data_set(), throttled_scroll()\\r\\n            }), $(\"body,html\").on(\"scroll\", function() {\\r\\n                throttled_data_set(), throttled_scroll()\\r\\n            })\\r\\n        }\\r\\n    })\\r\\n}();\\r\\n</script>\\r\\n<!-- end hr_metrics --><script type=\"text/javascript\">\\r\\nvar cookie_value = jsCookies.get(\"hrc_l_i\");\\r\\nif (cookie_value && cookie_value == \"T\") {\\r\\nwindow.location.href = \\'/dashboard\\';\\r\\n}\\r\\n</script></head>\\n\\n<body class=\"home page-template-default page page-id-71 wp-custom-logo fl-builder\">\\n\\n    <!-- Google Tag Manager (noscript) -->\\n    <noscript><iframe src=\"https://www.googletagmanager.com/ns.html?id=GTM-PX2ZJF2\"\\n    height=\"0\" width=\"0\" style=\"display:none;visibility:hidden\"></iframe></noscript>\\n    <!-- End Google Tag Manager (noscript) -->\\n    \\n<div id=\"page\" class=\"site\">\\n\\n\\t\\n        <div class=\"hr__top-bar\">\\n\\n            <div class=\"container\">\\n                                    <p>What was the first programming language you learned? <a target=\"_blank\" rel=\"noopener noreferral\" href=\"https://www.surveymonkey.com/r/DeveloperSkills2019?utm_source=hrsite&utm_medium=hrsite&utm_content=header_top&h_l=header_top\">Share yours in our annual Developer Skills Survey</a>.</p>\\n                \\n                <div class=\"menu-top-bar-menu-container\"><ul id=\"top-bar-menu\" class=\"menu\"></li>\\n</li>\\n</li>\\n</li>\\n</ul></div>            </div>\\n        </div>\\n\\n    \\n            <header id=\"masthead\" class=\"hr__site-header\">\\n            <div id=\"header-sticky\">\\n                <div class=\"container\">\\n\\n                <div class=\"site-branding\">\\n                    <a href=\"https://www.hackerrank.com\" data-analytics=\"LogoLink\" data-attr1=\"home\" data-event-label=\"header\" data-event-action=\"HackerRank_logo\" data-attr2=\"navigation\" class=\"custom-logo-link\" rel=\"home\" itemprop=\"url\"><img width=\"334\" height=\"36\" src=\"https://www.hackerrank.com/wp-content/uploads/2018/08/hackerrank_logo.png\" class=\"custom-logo\" alt=\"HackerRank Logo\" srcset=\"https://www.hackerrank.com/wp-content/uploads/2018/08/hackerrank_logo.png 334w, https://www.hackerrank.com/wp-content/uploads/2018/08/hackerrank_logo-300x32.png 300w\" sizes=\"(max-width: 334px) 100vw, 334px\" /></a>                </div><!-- .site-branding -->\\n\\n                <a id=\"js-nav-button\" data-analytics=\"MobileMenuLink\"  data-attr1=\"home\"  data-attr2=\"navigation\" class=\"hr__mobile-menu-toggle\">\\n                    <span></span>\\n                    <span></span>\\n                    <span></span>\\n                    <span></span>\\n                </a>\\n\\n                <nav id=\"site-navigation\" class=\"main-navigation\">\\n\\n                    <div class=\"hr__mobile-menu-toggle-wrap\">\\n                        <a id=\"js-nav-button-secondary\" data-analytics=\"ForDevelopersLink\" data-attr1=\"home\"  data-attr2=\"navigation\" class=\"hr__mobile-menu-toggle hr__mobile-menu-toggle--open\">\\n                            <span></span>\\n                            <span></span>\\n                            <span></span>\\n                            <span></span>\\n                        </a>\\n                    </div>\\n\\n                    <div class=\"menu-primary-menu-container\"><ul id=\"primary-menu\" class=\"menu\"><li id=\"menu-item-4743\" class=\"menu-item menu-item-type-post_type menu-item-object-page menu-item-has-children menu-item-4743\"><a  href=\"https://www.hackerrank.com/products/?h_r=home&amp;h_l=header\"data-event-label=\"header\"data-event-action=\"Products\">Products<p class=\"menu-item__description\">business</p></a>\\n<ul class=\"sub-menu\">\\n\\t<li id=\"menu-item-4745\" class=\"hr__menu-item--bubble menu-item menu-item-type-post_type menu-item-object-page menu-item-4745\"><a  href=\"https://www.hackerrank.com/products/codescreen/?h_r=home&amp;h_l=header\"data-event-label=\"header\"data-event-action=\"HackerRank CodeScreen\">HackerRank CodeScreen<p class=\"menu-item__description\">Online technical assessments</p></a></li>\\n\\t<li id=\"menu-item-4746\" class=\"hr__menu-item--bubble menu-item menu-item-type-post_type menu-item-object-page menu-item-4746\"><a  href=\"https://www.hackerrank.com/products/codepair/?h_r=home&amp;h_l=header\"data-event-label=\"header\"data-event-action=\"HackerRank CodePair\">HackerRank CodePair<p class=\"menu-item__description\">Live or remote technical interviews</p></a></li>\\n\\t<li id=\"menu-item-5720\" class=\"hr__menu-item--bubble menu-item menu-item-type-post_type menu-item-object-page menu-item-5720\"><a  href=\"https://www.hackerrank.com/products/projects/?h_r=home&amp;h_l=header\"data-event-label=\"header\"data-event-action=\"HackerRank Projects\">HackerRank Projects<p class=\"menu-item__description\">Role specific real world projects</p></a></li>\\n\\t<li id=\"menu-item-4744\" class=\"hr__menu-item--bubble menu-item menu-item-type-post_type menu-item-object-page menu-item-4744\"><a  href=\"https://www.hackerrank.com/products/insights/?h_r=home&amp;h_l=header\"data-event-label=\"header\"data-event-action=\"HackerRank Insights\">HackerRank Insights<p class=\"menu-item__description\">AI-powered insights for tech hiring</p></a></li>\\n\\t<li id=\"menu-item-490\" class=\"hr__menu-item--bubble menu-item menu-item-type-post_type menu-item-object-page menu-item-490\"><a  href=\"https://www.hackerrank.com/products/partners/?h_r=home&amp;h_l=header\"data-event-label=\"header\"data-event-action=\"Partners\">Partners</a></li>\\n\\t<li id=\"menu-item-491\" class=\"hr__menu-item--bubble menu-item menu-item-type-post_type menu-item-object-page menu-item-491\"><a  href=\"https://www.hackerrank.com/products/pricing/?h_r=home&amp;h_l=header\"data-event-label=\"header\"data-event-action=\"Pricing\">Pricing</a></li>\\n</ul>\\n</li>\\n<li id=\"menu-item-6305\" class=\"menu-item menu-item-type-custom menu-item-object-custom menu-item-has-children menu-item-6305\"><a  href=\"#?h_r=home&amp;h_l=header\"data-event-label=\"header\"data-event-action=\"Solutions\">Solutions<p class=\"menu-item__description\">business</p></a>\\n<ul class=\"sub-menu\">\\n\\t<li id=\"menu-item-6306\" class=\"hr__menu-item--bubble menu-item menu-item-type-custom menu-item-object-custom menu-item-6306\"><a  href=\"https://www.hackerrank.com/solutions/university-recruiting/?h_r=home&amp;h_l=header\"data-event-label=\"header\"data-event-action=\"University Recruiting\">University Recruiting</a></li>\\n\\t<li id=\"menu-item-6307\" class=\"hr__menu-item--bubble menu-item menu-item-type-custom menu-item-object-custom menu-item-6307\"><a  href=\"https://www.hackerrank.com/solutions/diversity-hiring/?h_r=home&amp;h_l=header\"data-event-label=\"header\"data-event-action=\"Diversity &#038; Inclusion\">Diversity &#038; Inclusion</a></li>\\n</ul>\\n</li>\\n<li id=\"menu-item-492\" class=\"menu-item menu-item-type-post_type menu-item-object-page menu-item-492\"><a  href=\"https://www.hackerrank.com/customers/?h_r=home&amp;h_l=header\"data-event-label=\"header\"data-event-action=\"Customers\">Customers<p class=\"menu-item__description\">business</p></a></li>\\n<li id=\"menu-item-493\" class=\"menu-item menu-item-type-post_type menu-item-object-page menu-item-493\"><a  href=\"https://www.hackerrank.com/resources/?h_r=home&amp;h_l=header\"data-event-label=\"header\"data-event-action=\"Resources\">Resources<p class=\"menu-item__description\">business</p></a></li>\\n<li id=\"menu-item-727\" class=\"menu-item menu-item-type-custom menu-item-object-custom menu-item-727\"><a  href=\"https://research.hackerrank.com?h_r=home&amp;h_l=header\"data-event-label=\"header\"data-event-action=\"Research\">Research</a></li>\\n<li id=\"menu-item-25\" class=\"menu-item menu-item-type-custom menu-item-object-custom menu-item-25\"><a  href=\"https://blog.hackerrank.com/?h_r=home&amp;h_l=header\"data-event-label=\"header\"data-event-action=\"Blog\">Blog</a></li>\\n<li id=\"menu-item-830\" class=\"last-item-on-desktop menu-item menu-item-type-post_type menu-item-object-page menu-item-830\"><a  href=\"https://www.hackerrank.com/about-us/?h_r=home&amp;h_l=header\"data-event-label=\"header\"data-event-action=\"About Us\">About Us</a></li>\\n<li id=\"menu-item-737\" class=\"hr__button hr__button--sm hr__button--tertiary hr__button--tertiary--no-border menu-item menu-item-type-post_type menu-item-object-page menu-item-737\"><a  href=\"https://www.hackerrank.com/access-account/?h_r=home&amp;h_l=header\"data-event-label=\"header\"data-event-action=\"Login\">Login</a></li>\\n<li id=\"menu-item-494\" class=\"hr__button hr__button--sm hr__button--tertiary hr__button--tertiary--no-border menu-item menu-item-type-post_type menu-item-object-page menu-item-494\"><a  href=\"https://www.hackerrank.com/create-account/?h_r=home&amp;h_l=header\"data-event-label=\"header\"data-event-action=\"Sign Up\">Sign Up</a></li>\\n</li>\\n</li>\\n</ul></div>\\n                </nav><!-- #site-navigation -->\\n                <nav class=\"main-navigation--right\">\\n                    <div class=\"menu-primary-right-buttons-container\"><ul id=\"primary-menu-right-button\" class=\"menu\"></li>\\n</li>\\n<li id=\"menu-item-2887\" class=\"hr__button hr__button--sm hr__button--tertiary hr__button--tertiary--no-border menu-item menu-item-type-post_type menu-item-object-page menu-item-2887\"><a  href=\"https://www.hackerrank.com/access-account/?h_r=home&amp;h_l=header\"data-event-label=\"header\"data-event-action=\"Login\">Login</a></li>\\n</li>\\n<li id=\"menu-item-2889\" class=\"hr__button hr__button--sm hr__button--tertiary menu-item menu-item-type-post_type menu-item-object-page menu-item-2889\"><a  href=\"https://www.hackerrank.com/create-account/?h_r=home&amp;h_l=header\"data-event-label=\"header\"data-event-action=\"Sign Up\">Sign Up</a></li>\\n</ul></div>                </nav><!-- #site-navigation -->\\n            </div>\\n            </div>\\n        </header><!-- #masthead -->\\n    \\n\\t<div id=\"primary\" class=\"content-area\">\\n\\t\\t<main id=\"main\" class=\"site-main\">\\n            \\n<article id=\"post-71\" class=\"post-71 page type-page status-publish has-post-thumbnail hentry\">\\n\\n\\t\\n\\t<div class=\"entry-content\">\\n\\t\\t<div class=\"fl-builder-content fl-builder-content-71 fl-builder-content-primary fl-builder-global-templates-locked\" data-post-id=\"71\"><div class=\"fl-row fl-row-full-width fl-row-bg-none fl-node-5b7e25da5ad73 hr__header-form-section\" data-node=\"5b7e25da5ad73\">\\n\\t<div class=\"fl-row-content-wrap\">\\n\\t\\t\\t\\t\\t\\t<div class=\"fl-row-content fl-row-fixed-width fl-node-content\">\\n\\t\\t\\n<div class=\"fl-col-group fl-node-5b7e25da5b87a\" data-node=\"5b7e25da5b87a\">\\n\\t\\t\\t<div class=\"fl-col fl-node-5b7e25da5b920\" data-node=\"5b7e25da5b920\">\\n\\t<div class=\"fl-col-content fl-node-content\">\\n\\t<div class=\"fl-module fl-module-rich-text fl-node-5b7e25da5b9c6\" data-node=\"5b7e25da5b9c6\">\\n\\t<div class=\"fl-module-content fl-node-content\">\\n\\t\\t<div class=\"fl-rich-text\">\\n\\t<h2 style=\"text-align: center; line-height: 50px;\"><span style=\"font-size: 34px; color: #576871;\">Join over <span style=\"color: #39424e; letter-spacing: 0.2px;\"><strong>7 million developers</strong></span>.</span></h2>\\n<h2 style=\"text-align: center; line-height: 50px;\"><span style=\"font-size: 34px; color: #576871;\">Practice coding, prepare for interviews, and get hired.</span></h2>\\n</div>\\n\\t</div>\\n</div>\\n<div class=\"fl-module fl-module-button fl-node-5b7e25da5ba83 hr__builder-button hr__builder-button--primary hr__builder-button--primary--halo hr__builder-button--lg\" data-node=\"5b7e25da5ba83\">\\n\\t<div class=\"fl-module-content fl-node-content\">\\n\\t\\t<div class=\"fl-button-wrap fl-button-width-auto fl-button-center\">\\n\\t\\t\\t<a  href=\"https://www.hackerrank.com/signup/?h_r=home&h_l=body_top_center_button\"  target=\"_self\" class=\"fl-button\" role=\"button\">\\n\\t\\t\\t\\t\\t\\t\\t<span class=\"fl-button-text\">Sign Up & Code</span>\\n\\t\\t\\t\\t\\t</a>\\n</div>\\n\\t</div>\\n</div>\\n<div class=\"fl-module fl-module-rich-text fl-node-5b7e25da5bb2f\" data-node=\"5b7e25da5bb2f\">\\n\\t<div class=\"fl-module-content fl-node-content\">\\n\\t\\t<div class=\"fl-rich-text\">\\n\\t<p style=\"text-align: center;\"><span style=\"font-size: 14px;\">Hiring Talent? <a href=\"/contact-sales/?h_r=home&amp;h_l=body_top_center_text\">Contact us</a></span></p>\\n</div>\\n\\t</div>\\n</div>\\n\\t</div>\\n</div>\\n\\t</div>\\n\\t\\t</div>\\n\\t</div>\\n</div>\\n<div class=\"fl-row fl-row-full-width fl-row-bg-color fl-node-5cf58d405347d hr__partners-section hr__partners-section--width-auto\" data-node=\"5cf58d405347d\">\\n\\t<div class=\"fl-row-content-wrap\">\\n\\t\\t\\t\\t\\t\\t<div class=\"fl-row-content fl-row-fixed-width fl-node-content\">\\n\\t\\t\\n<div class=\"fl-col-group fl-node-5cf58d403657b fl-col-group-equal-height fl-col-group-align-center fl-col-group-custom-width\" data-node=\"5cf58d403657b\">\\n\\t\\t\\t<div class=\"fl-col fl-node-5cffe0b4791ed fl-col-small\" data-node=\"5cffe0b4791ed\">\\n\\t<div class=\"fl-col-content fl-node-content\">\\n\\t<div class=\"fl-module fl-module-photo fl-node-5cffe0b1afcea\" data-node=\"5cffe0b1afcea\">\\n\\t<div class=\"fl-module-content fl-node-content\">\\n\\t\\t<div class=\"fl-photo fl-photo-align-center\" itemscope itemtype=\"https://schema.org/ImageObject\">\\n\\t<div class=\"fl-photo-content fl-photo-img-png\">\\n\\t\\t\\t\\t<img class=\"fl-photo-img wp-image-5056 size-full\" src=\"https://www.hackerrank.com/wp-content/uploads/2019/06/logo-atlassian-a.png\" alt=\"logo-atlassian-a\" itemprop=\"image\" height=\"88\" width=\"88\" title=\"logo-atlassian-a\"  />\\n\\t\\t\\t\\t\\t</div>\\n\\t</div>\\n\\t</div>\\n</div>\\n\\t</div>\\n</div>\\n\\t\\t\\t<div class=\"fl-col fl-node-5d3642eca7d22 fl-col-small\" data-node=\"5d3642eca7d22\">\\n\\t<div class=\"fl-col-content fl-node-content\">\\n\\t<div class=\"fl-module fl-module-photo fl-node-5d3642eca871a\" data-node=\"5d3642eca871a\">\\n\\t<div class=\"fl-module-content fl-node-content\">\\n\\t\\t<div class=\"fl-photo fl-photo-align-center\" itemscope itemtype=\"https://schema.org/ImageObject\">\\n\\t<div class=\"fl-photo-content fl-photo-img-png\">\\n\\t\\t\\t\\t<img class=\"fl-photo-img wp-image-5057 size-full\" src=\"https://www.hackerrank.com/wp-content/uploads/2019/06/logo-bookingcom.png\" alt=\"logo-bookingcom\" itemprop=\"image\" height=\"50\" width=\"298\" title=\"logo-bookingcom\"  />\\n\\t\\t\\t\\t\\t</div>\\n\\t</div>\\n\\t</div>\\n</div>\\n\\t</div>\\n</div>\\n\\t\\t\\t<div class=\"fl-col fl-node-5cf58d4036628 fl-col-small\" data-node=\"5cf58d4036628\">\\n\\t<div class=\"fl-col-content fl-node-content\">\\n\\t<div class=\"fl-module fl-module-photo fl-node-5cf58d4036ae8\" data-node=\"5cf58d4036ae8\">\\n\\t<div class=\"fl-module-content fl-node-content\">\\n\\t\\t<div class=\"fl-photo fl-photo-align-center\" itemscope itemtype=\"https://schema.org/ImageObject\">\\n\\t<div class=\"fl-photo-content fl-photo-img-png\">\\n\\t\\t\\t\\t<img class=\"fl-photo-img wp-image-4778 size-full\" src=\"https://www.hackerrank.com/wp-content/uploads/2019/06/logo-icon-dropbox.png\" alt=\"logo-icon-dropbox\" itemprop=\"image\" height=\"114\" width=\"105\" title=\"logo-icon-dropbox\"  />\\n\\t\\t\\t\\t\\t</div>\\n\\t</div>\\n\\t</div>\\n</div>\\n\\t</div>\\n</div>\\n\\t\\t\\t<div class=\"fl-col fl-node-5cf58d40366d8 fl-col-small\" data-node=\"5cf58d40366d8\">\\n\\t<div class=\"fl-col-content fl-node-content\">\\n\\t<div class=\"fl-module fl-module-photo fl-node-5cf58d4036b93\" data-node=\"5cf58d4036b93\">\\n\\t<div class=\"fl-module-content fl-node-content\">\\n\\t\\t<div class=\"fl-photo fl-photo-align-center\" itemscope itemtype=\"https://schema.org/ImageObject\">\\n\\t<div class=\"fl-photo-content fl-photo-img-png\">\\n\\t\\t\\t\\t<img class=\"fl-photo-img wp-image-4779 size-full\" src=\"https://www.hackerrank.com/wp-content/uploads/2019/06/logo-icon-goldman-sachs.png\" alt=\"logo-icon-goldman-sachs\" itemprop=\"image\" height=\"114\" width=\"224\" title=\"logo-icon-goldman-sachs\"  />\\n\\t\\t\\t\\t\\t</div>\\n\\t</div>\\n\\t</div>\\n</div>\\n\\t</div>\\n</div>\\n\\t\\t\\t<div class=\"fl-col fl-node-5cf58d4036788 fl-col-small\" data-node=\"5cf58d4036788\">\\n\\t<div class=\"fl-col-content fl-node-content\">\\n\\t<div class=\"fl-module fl-module-photo fl-node-5cf58d4036c3e\" data-node=\"5cf58d4036c3e\">\\n\\t<div class=\"fl-module-content fl-node-content\">\\n\\t\\t<div class=\"fl-photo fl-photo-align-center\" itemscope itemtype=\"https://schema.org/ImageObject\">\\n\\t<div class=\"fl-photo-content fl-photo-img-png\">\\n\\t\\t\\t\\t<img class=\"fl-photo-img wp-image-4780 size-full\" src=\"https://www.hackerrank.com/wp-content/uploads/2019/06/logo-icon-linkedin.png\" alt=\"logo-icon-linkedin\" itemprop=\"image\" height=\"114\" width=\"229\" title=\"logo-icon-linkedin\"  />\\n\\t\\t\\t\\t\\t</div>\\n\\t</div>\\n\\t</div>\\n</div>\\n\\t</div>\\n</div>\\n\\t\\t\\t<div class=\"fl-col fl-node-5cf58d403683a fl-col-small\" data-node=\"5cf58d403683a\">\\n\\t<div class=\"fl-col-content fl-node-content\">\\n\\t<div class=\"fl-module fl-module-photo fl-node-5cf58d4036ced\" data-node=\"5cf58d4036ced\">\\n\\t<div class=\"fl-module-content fl-node-content\">\\n\\t\\t<div class=\"fl-photo fl-photo-align-center\" itemscope itemtype=\"https://schema.org/ImageObject\">\\n\\t<div class=\"fl-photo-content fl-photo-img-png\">\\n\\t\\t\\t\\t<img class=\"fl-photo-img wp-image-4781 size-full\" src=\"https://www.hackerrank.com/wp-content/uploads/2019/06/logo-icon-stripe.png\" alt=\"logo-icon-stripe\" itemprop=\"image\" height=\"114\" width=\"184\" title=\"logo-icon-stripe\"  />\\n\\t\\t\\t\\t\\t</div>\\n\\t</div>\\n\\t</div>\\n</div>\\n\\t</div>\\n</div>\\n\\t\\t\\t<div class=\"fl-col fl-node-5cf58d4036993 fl-col-small\" data-node=\"5cf58d4036993\">\\n\\t<div class=\"fl-col-content fl-node-content\">\\n\\t<div class=\"fl-module fl-module-photo fl-node-5cf58d4036e4d\" data-node=\"5cf58d4036e4d\">\\n\\t<div class=\"fl-module-content fl-node-content\">\\n\\t\\t<div class=\"fl-photo fl-photo-align-center\" itemscope itemtype=\"https://schema.org/ImageObject\">\\n\\t<div class=\"fl-photo-content fl-photo-img-png\">\\n\\t\\t\\t\\t<img class=\"fl-photo-img wp-image-4784 size-full\" src=\"https://www.hackerrank.com/wp-content/uploads/2019/06/logo-icon-vmware.png\" alt=\"logo-icon-vmware\" itemprop=\"image\" height=\"114\" width=\"267\" title=\"logo-icon-vmware\"  />\\n\\t\\t\\t\\t\\t</div>\\n\\t</div>\\n\\t</div>\\n</div>\\n\\t</div>\\n</div>\\n\\t\\t\\t<div class=\"fl-col fl-node-5cf58d4036a3e fl-col-small\" data-node=\"5cf58d4036a3e\">\\n\\t<div class=\"fl-col-content fl-node-content\">\\n\\t<div class=\"fl-module fl-module-photo fl-node-5cf58d4036efd\" data-node=\"5cf58d4036efd\">\\n\\t<div class=\"fl-module-content fl-node-content\">\\n\\t\\t<div class=\"fl-photo fl-photo-align-center\" itemscope itemtype=\"https://schema.org/ImageObject\">\\n\\t<div class=\"fl-photo-content fl-photo-img-png\">\\n\\t\\t\\t\\t<img class=\"fl-photo-img wp-image-4785 size-full\" src=\"https://www.hackerrank.com/wp-content/uploads/2019/06/logo-icon-washington-post.png\" alt=\"logo-icon-washington-post\" itemprop=\"image\" height=\"114\" width=\"130\" title=\"logo-icon-washington-post\"  />\\n\\t\\t\\t\\t\\t</div>\\n\\t</div>\\n\\t</div>\\n</div>\\n\\t</div>\\n</div>\\n\\t</div>\\n\\t\\t</div>\\n\\t</div>\\n</div>\\n<div class=\"fl-row fl-row-full-width fl-row-bg-pp_gradient fl-node-5b7e25da5b010 hr__homepage_content-section\" data-node=\"5b7e25da5b010\">\\n\\t<div class=\"fl-row-content-wrap\">\\n\\t\\t\\t\\t\\t\\t<div class=\"fl-row-content fl-row-fixed-width fl-node-content\">\\n\\t\\t\\n<div class=\"fl-col-group fl-node-5b7e25da5b0b6\" data-node=\"5b7e25da5b0b6\">\\n\\t\\t\\t<div class=\"fl-col fl-node-5b7e25da5b15c fl-col-small\" data-node=\"5b7e25da5b15c\">\\n\\t<div class=\"fl-col-content fl-node-content\">\\n\\t<div class=\"fl-module fl-module-heading fl-node-5b7e25da5b2a7\" data-node=\"5b7e25da5b2a7\">\\n\\t<div class=\"fl-module-content fl-node-content\">\\n\\t\\t<h4 class=\"fl-heading\">\\n\\t\\t<span class=\"fl-heading-text\">HackerRank for Developers</span>\\n\\t</h4>\\n\\t</div>\\n</div>\\n<div class=\"fl-module fl-module-heading fl-node-5b7e25da5b5e4 hr__word-spacing-5\" data-node=\"5b7e25da5b5e4\">\\n\\t<div class=\"fl-module-content fl-node-content\">\\n\\t\\t<h3 class=\"fl-heading\">\\n\\t\\t<span class=\"fl-heading-text\">Code & Get Hired</span>\\n\\t</h3>\\n\\t</div>\\n</div>\\n<div class=\"fl-module fl-module-rich-text fl-node-5b7e25da5b3f3\" data-node=\"5b7e25da5b3f3\">\\n\\t<div class=\"fl-module-content fl-node-content\">\\n\\t\\t<div class=\"fl-rich-text\">\\n\\t<p>Join over 7 million developers, improve your coding skills, and find the best job.</p>\\n</div>\\n\\t</div>\\n</div>\\n<div class=\"fl-module fl-module-button fl-node-5b7e25da5b499 hr__builder-button hr__builder-button--secondary hr__builder-button--lg\" data-node=\"5b7e25da5b499\">\\n\\t<div class=\"fl-module-content fl-node-content\">\\n\\t\\t<div class=\"fl-button-wrap fl-button-width-auto fl-button-left\">\\n\\t\\t\\t<a  href=\"https://www.hackerrank.com/signup/?h_r=home&h_l=body_bottom_left_button\"  target=\"_self\" class=\"fl-button\" role=\"button\">\\n\\t\\t\\t\\t\\t\\t\\t<span class=\"fl-button-text\">Sign Up & Code</span>\\n\\t\\t\\t\\t\\t</a>\\n</div>\\n\\t</div>\\n</div>\\n\\t</div>\\n</div>\\n\\t\\t\\t<div class=\"fl-col fl-node-5b7e25da5b201 fl-col-small\" data-node=\"5b7e25da5b201\">\\n\\t<div class=\"fl-col-content fl-node-content\">\\n\\t<div class=\"fl-module fl-module-heading fl-node-5b7e25da5b53e\" data-node=\"5b7e25da5b53e\">\\n\\t<div class=\"fl-module-content fl-node-content\">\\n\\t\\t<h4 class=\"fl-heading\">\\n\\t\\t<span class=\"fl-heading-text\">Hackerrank for work</span>\\n\\t</h4>\\n\\t</div>\\n</div>\\n<div class=\"fl-module fl-module-heading fl-node-5b7e25da5b34d hr__word-spacing-5\" data-node=\"5b7e25da5b34d\">\\n\\t<div class=\"fl-module-content fl-node-content\">\\n\\t\\t<h3 class=\"fl-heading\">\\n\\t\\t<span class=\"fl-heading-text\">Hire Talent</span>\\n\\t</h3>\\n\\t</div>\\n</div>\\n<div class=\"fl-module fl-module-rich-text fl-node-5b7e25da5b689\" data-node=\"5b7e25da5b689\">\\n\\t<div class=\"fl-module-content fl-node-content\">\\n\\t\\t<div class=\"fl-rich-text\">\\n\\t<p>HackerRank for Work is the leading end-to-end technical recruiting platform for hiring developers.</p>\\n</div>\\n\\t</div>\\n</div>\\n<div class=\"fl-module fl-module-button fl-node-5b7e25da5b72f hr__builder-button hr__builder-button--secondary hr__builder-button--lg\" data-node=\"5b7e25da5b72f\">\\n\\t<div class=\"fl-module-content fl-node-content\">\\n\\t\\t<div class=\"fl-button-wrap fl-button-width-auto fl-button-left\">\\n\\t\\t\\t<a  href=\"/products/?h_r=home&h_l=body_bottom_right_button\"  target=\"_self\" class=\"fl-button\" role=\"button\">\\n\\t\\t\\t\\t\\t\\t\\t<span class=\"fl-button-text\">Learn More</span>\\n\\t\\t\\t\\t\\t</a>\\n</div>\\n\\t</div>\\n</div>\\n\\t</div>\\n</div>\\n\\t</div>\\n\\t\\t</div>\\n\\t</div>\\n</div>\\n<div class=\"fl-row fl-row-full-width fl-row-bg-color fl-node-5dc48cf7ea2a1 fl-visible-desktop\" data-node=\"5dc48cf7ea2a1\">\\n\\t<div class=\"fl-row-content-wrap\">\\n\\t\\t\\t\\t\\t\\t<div class=\"fl-row-content fl-row-fixed-width fl-node-content\">\\n\\t\\t\\n<div class=\"fl-col-group fl-node-5dc48cf7ea4a2\" data-node=\"5dc48cf7ea4a2\">\\n\\t\\t\\t<div class=\"fl-col fl-node-5dc48cf7ea54a fl-col-small\" data-node=\"5dc48cf7ea54a\">\\n\\t<div class=\"fl-col-content fl-node-content\">\\n\\t<div class=\"fl-module fl-module-heading fl-node-5dc48cf7ea5ef\" data-node=\"5dc48cf7ea5ef\">\\n\\t<div class=\"fl-module-content fl-node-content\">\\n\\t\\t<h2 class=\"fl-heading\">\\n\\t\\t<span class=\"fl-heading-text\"><span style=\"letter-spacing: 0px;\">2019 Developer Skills Survey</span></span>\\n\\t</h2>\\n\\t</div>\\n</div>\\n<div class=\"fl-module fl-module-button fl-node-5dc48cf7ea739 hr__builder-button  hr__builder-button--lg\" data-node=\"5dc48cf7ea739\">\\n\\t<div class=\"fl-module-content fl-node-content\">\\n\\t\\t<div class=\"fl-button-wrap fl-button-width-auto fl-button-left\">\\n\\t\\t\\t<a  href=\"https://www.surveymonkey.com/r/DeveloperSkills2019?utm_source=hrsite&utm_medium=hrsite&utm_content=body_bottom_button&h_l=body_bottom_button\"  target=\"_self\" class=\"fl-button\" role=\"button\">\\n\\t\\t\\t\\t\\t\\t\\t<span class=\"fl-button-text\">Take the survey</span>\\n\\t\\t\\t\\t\\t</a>\\n</div>\\n\\t</div>\\n</div>\\n\\t</div>\\n</div>\\n\\t\\t\\t<div class=\"fl-col fl-node-5dc48cf7ea7e6 fl-col-small\" data-node=\"5dc48cf7ea7e6\">\\n\\t<div class=\"fl-col-content fl-node-content\">\\n\\t<div class=\"fl-module fl-module-photo fl-node-5dc48cf7ea88d fl-visible-desktop\" data-node=\"5dc48cf7ea88d\">\\n\\t<div class=\"fl-module-content fl-node-content\">\\n\\t\\t<div class=\"fl-photo fl-photo-align-center\" itemscope itemtype=\"https://schema.org/ImageObject\">\\n\\t<div class=\"fl-photo-content fl-photo-img-png\">\\n\\t\\t\\t\\t<img class=\"fl-photo-img wp-image-6569\" src=\"https://marketing.hackerrank.com/wp-content/uploads/2019/11/HPBann-Devskills19_Desktop-1.png\" alt=\"HPBann-Devskills19_Desktop (1)\" itemprop=\"image\" title=\"HPBann-Devskills19_Desktop (1)\" srcset=\"https://www.hackerrank.com/wp-content/uploads/2019/11/HPBann-Devskills19_Desktop-1.png 632w, https://www.hackerrank.com/wp-content/uploads/2019/11/HPBann-Devskills19_Desktop-1-190x300.png 190w\" sizes=\"(max-width: 632px) 100vw, 632px\" />\\n\\t\\t\\t\\t\\t</div>\\n\\t</div>\\n\\t</div>\\n</div>\\n\\t</div>\\n</div>\\n\\t</div>\\n\\t\\t</div>\\n\\t</div>\\n</div>\\n<div class=\"fl-row fl-row-full-width fl-row-bg-color fl-node-5dc48d521b2c3 fl-visible-medium-mobile\" data-node=\"5dc48d521b2c3\">\\n\\t<div class=\"fl-row-content-wrap\">\\n\\t\\t\\t\\t\\t\\t<div class=\"fl-row-content fl-row-fixed-width fl-node-content\">\\n\\t\\t\\n<div class=\"fl-col-group fl-node-5dc48d521b49f\" data-node=\"5dc48d521b49f\">\\n\\t\\t\\t<div class=\"fl-col fl-node-5dc48d521b546\" data-node=\"5dc48d521b546\">\\n\\t<div class=\"fl-col-content fl-node-content\">\\n\\t<div class=\"fl-module fl-module-heading fl-node-5dc48d521b5eb\" data-node=\"5dc48d521b5eb\">\\n\\t<div class=\"fl-module-content fl-node-content\">\\n\\t\\t<h2 class=\"fl-heading\">\\n\\t\\t<span class=\"fl-heading-text\"><span style=\"letter-spacing: 0px;\">2019 Developer Skills Survey</span></span>\\n\\t</h2>\\n\\t</div>\\n</div>\\n<div class=\"fl-module fl-module-button fl-node-5dc48d521b73e hr__builder-button  hr__builder-button--lg\" data-node=\"5dc48d521b73e\">\\n\\t<div class=\"fl-module-content fl-node-content\">\\n\\t\\t<div class=\"fl-button-wrap fl-button-width-auto fl-button-left\">\\n\\t\\t\\t<a  href=\"https://www.surveymonkey.com/r/DeveloperSkills2019?utm_source=hrsite&utm_medium=hrsite&utm_content=body_bottom_button&h_l=body_bottom_button\"  target=\"_self\" class=\"fl-button\" role=\"button\">\\n\\t\\t\\t\\t\\t\\t\\t<span class=\"fl-button-text\">Take the survey</span>\\n\\t\\t\\t\\t\\t</a>\\n</div>\\n\\t</div>\\n</div>\\n\\t</div>\\n</div>\\n\\t</div>\\n\\n<div class=\"fl-col-group fl-node-5dc48d521b7ea\" data-node=\"5dc48d521b7ea\">\\n\\t\\t\\t<div class=\"fl-col fl-node-5dc48d521b893\" data-node=\"5dc48d521b893\">\\n\\t<div class=\"fl-col-content fl-node-content\">\\n\\t<div class=\"fl-module fl-module-photo fl-node-5dc48d521b93c\" data-node=\"5dc48d521b93c\">\\n\\t<div class=\"fl-module-content fl-node-content\">\\n\\t\\t<div class=\"fl-photo fl-photo-align-center\" itemscope itemtype=\"https://schema.org/ImageObject\">\\n\\t<div class=\"fl-photo-content fl-photo-img-png\">\\n\\t\\t\\t\\t<img class=\"fl-photo-img wp-image-6566\" src=\"https://marketing.hackerrank.com/wp-content/uploads/2019/11/HPBann-Devskills19_Mobile.png\" alt=\"HPBann-Devskills19_Mobile\" itemprop=\"image\" title=\"HPBann-Devskills19_Mobile\" srcset=\"https://www.hackerrank.com/wp-content/uploads/2019/11/HPBann-Devskills19_Mobile.png 1012w, https://www.hackerrank.com/wp-content/uploads/2019/11/HPBann-Devskills19_Mobile-300x124.png 300w, https://www.hackerrank.com/wp-content/uploads/2019/11/HPBann-Devskills19_Mobile-768x317.png 768w\" sizes=\"(max-width: 1012px) 100vw, 1012px\" />\\n\\t\\t\\t\\t\\t</div>\\n\\t</div>\\n\\t</div>\\n</div>\\n\\t</div>\\n</div>\\n\\t</div>\\n\\t\\t</div>\\n\\t</div>\\n</div>\\n</div>\\t</div><!-- .entry-content -->\\n</article><!-- #post-71 -->\\n\\t\\t</main><!-- #main -->\\n\\t</div><!-- #primary -->\\n\\n\\t\\n        <footer id=\"colophon\" class=\"hr__site-footer\">\\n            <div class=\"container\">\\n                <div class=\"menu-footer-menu-container\"><ul id=\"footer-menu\" class=\"menu\"><li id=\"menu-item-4749\" class=\"menu-item menu-item-type-post_type menu-item-object-page menu-item-has-children menu-item-4749\"><a  href=\"https://www.hackerrank.com/products/?h_r=home&amp;h_l=footer\"data-event-label=\"footer\"data-event-action=\"Products\">Products</a>\\n<ul class=\"sub-menu\">\\n\\t<li id=\"menu-item-4752\" class=\"menu-item menu-item-type-post_type menu-item-object-page menu-item-4752\"><a  href=\"https://www.hackerrank.com/products/codescreen/?h_r=home&amp;h_l=footer\"data-event-label=\"footer\"data-event-action=\"HackerRank CodeScreen\">HackerRank CodeScreen</a></li>\\n\\t<li id=\"menu-item-4751\" class=\"menu-item menu-item-type-post_type menu-item-object-page menu-item-4751\"><a  href=\"https://www.hackerrank.com/products/codepair/?h_r=home&amp;h_l=footer\"data-event-label=\"footer\"data-event-action=\"HackerRank CodePair\">HackerRank CodePair</a></li>\\n\\t<li id=\"menu-item-5719\" class=\"menu-item menu-item-type-post_type menu-item-object-page menu-item-5719\"><a  href=\"https://www.hackerrank.com/products/projects/?h_r=home&amp;h_l=footer\"data-event-label=\"footer\"data-event-action=\"HackerRank Projects\">HackerRank Projects</a></li>\\n\\t<li id=\"menu-item-4750\" class=\"menu-item menu-item-type-post_type menu-item-object-page menu-item-4750\"><a  href=\"https://www.hackerrank.com/products/insights/?h_r=home&amp;h_l=footer\"data-event-label=\"footer\"data-event-action=\"HackerRank Insights\">HackerRank Insights</a></li>\\n\\t<li id=\"menu-item-841\" class=\"menu-item menu-item-type-custom menu-item-object-custom menu-item-841\"><a  href=\"https://www.hackerrank.com/dashboard?h_r=home&amp;h_l=footer\"data-event-label=\"footer\"data-event-action=\"HackerRank for Developers\">HackerRank for Developers</a></li>\\n\\t<li id=\"menu-item-601\" class=\"menu-item menu-item-type-post_type menu-item-object-page menu-item-601\"><a  href=\"https://www.hackerrank.com/products/school/?h_r=home&amp;h_l=footer\"data-event-label=\"footer\"data-event-action=\"HackerRank for School\">HackerRank for School</a></li>\\n\\t<li id=\"menu-item-4761\" class=\"menu-item menu-item-type-post_type menu-item-object-page menu-item-4761\"><a  href=\"https://www.hackerrank.com/trust/?h_r=home&amp;h_l=footer\"data-event-label=\"footer\"data-event-action=\"Security\">Security</a></li>\\n\\t<li id=\"menu-item-598\" class=\"menu-item menu-item-type-post_type menu-item-object-page menu-item-598\"><a  href=\"https://www.hackerrank.com/products/partners/?h_r=home&amp;h_l=footer\"data-event-label=\"footer\"data-event-action=\"Partners\">Partners</a></li>\\n\\t<li id=\"menu-item-597\" class=\"menu-item menu-item-type-post_type menu-item-object-page menu-item-597\"><a  href=\"https://www.hackerrank.com/products/pricing/?h_r=home&amp;h_l=footer\"data-event-label=\"footer\"data-event-action=\"Pricing\">Pricing</a></li>\\n</ul>\\n</li>\\n<li id=\"menu-item-6300\" class=\"menu-item menu-item-type-custom menu-item-object-custom menu-item-has-children menu-item-6300\"><a  href=\"#?h_r=home&amp;h_l=header\"data-event-label=\"footer\"data-event-action=\"Solutions\">Solutions</a>\\n<ul class=\"sub-menu\">\\n\\t<li id=\"menu-item-6301\" class=\"menu-item menu-item-type-custom menu-item-object-custom menu-item-6301\"><a  href=\"https://www.hackerrank.com/solutions/university-recruiting/?h_r=home&amp;h_l=footer\"data-event-label=\"footer\"data-event-action=\"University Recruiting\">University Recruiting</a></li>\\n\\t<li id=\"menu-item-6302\" class=\"menu-item menu-item-type-custom menu-item-object-custom menu-item-6302\"><a  href=\"https://www.hackerrank.com/solutions/diversity-hiring/?h_r=home&amp;h_l=footer\"data-event-label=\"footer\"data-event-action=\"Diversity &#038; Inclusion\">Diversity &#038; Inclusion</a></li>\\n</ul>\\n</li>\\n<li id=\"menu-item-599\" class=\"menu-item menu-item-type-post_type menu-item-object-page menu-item-has-children menu-item-599\"><a  href=\"https://www.hackerrank.com/customers/?h_r=home&amp;h_l=footer\"data-event-label=\"footer\"data-event-action=\"Customers\">Customers</a>\\n<ul class=\"sub-menu\">\\n\\t<li id=\"menu-item-604\" class=\"menu-item menu-item-type-post_type menu-item-object-page menu-item-604\"><a  href=\"https://www.hackerrank.com/customers/?h_r=home&amp;h_l=footer\"data-event-label=\"footer\"data-event-action=\"All Industries\">All Industries</a></li>\\n\\t<li id=\"menu-item-42\" class=\"menu-item menu-item-type-custom menu-item-object-custom menu-item-42\"><a  href=\"/customers/?h_r=home&amp;h_l=footer#financial-services\"data-event-label=\"footer\"data-event-action=\"Financial Services\">Financial Services</a></li>\\n\\t<li id=\"menu-item-43\" class=\"menu-item menu-item-type-custom menu-item-object-custom menu-item-43\"><a  href=\"/customers/?h_r=home&amp;h_l=footer#technology\"data-event-label=\"footer\"data-event-action=\"Technology\">Technology</a></li>\\n\\t<li id=\"menu-item-44\" class=\"menu-item menu-item-type-custom menu-item-object-custom menu-item-44\"><a  href=\"/customers/?h_r=home&amp;h_l=footer#more\"data-event-label=\"footer\"data-event-action=\"More\">More</a></li>\\n</ul>\\n</li>\\n<li id=\"menu-item-605\" class=\"menu-item menu-item-type-post_type menu-item-object-page menu-item-has-children menu-item-605\"><a  href=\"https://www.hackerrank.com/resources/?h_r=home&amp;h_l=footer\"data-event-label=\"footer\"data-event-action=\"Resources\">Resources</a>\\n<ul class=\"sub-menu\">\\n\\t<li id=\"menu-item-46\" class=\"menu-item menu-item-type-custom menu-item-object-custom menu-item-46\"><a  href=\"/resources/?h_r=home&amp;h_l=footer#events\"data-event-label=\"footer\"data-event-action=\"Events\">Events</a></li>\\n\\t<li id=\"menu-item-47\" class=\"menu-item menu-item-type-custom menu-item-object-custom menu-item-47\"><a  href=\"/resources/?h_r=home&amp;h_l=footer#datasheets\"data-event-label=\"footer\"data-event-action=\"Datasheets\">Datasheets</a></li>\\n\\t<li id=\"menu-item-689\" class=\"menu-item menu-item-type-custom menu-item-object-custom menu-item-689\"><a  href=\"/resources/?h_r=home&amp;h_l=footer#guides\"data-event-label=\"footer\"data-event-action=\"Guides\">Guides</a></li>\\n\\t<li id=\"menu-item-49\" class=\"menu-item menu-item-type-custom menu-item-object-custom menu-item-49\"><a  href=\"/resources/?h_r=home&amp;h_l=footer#webinars\"data-event-label=\"footer\"data-event-action=\"Webinars\">Webinars</a></li>\\n\\t<li id=\"menu-item-48\" class=\"menu-item menu-item-type-custom menu-item-object-custom menu-item-48\"><a  href=\"/resources/?h_r=home&amp;h_l=footer#research\"data-event-label=\"footer\"data-event-action=\"Research\">Research</a></li>\\n\\t<li id=\"menu-item-3346\" class=\"menu-item menu-item-type-custom menu-item-object-custom menu-item-3346\"><a  href=\"/resources/?h_r=home&amp;h_l=footer#security\"data-event-label=\"footer\"data-event-action=\"Security\">Security</a></li>\\n</ul>\\n</li>\\n<li id=\"menu-item-51\" class=\"menu-item menu-item-type-custom menu-item-object-custom menu-item-has-children menu-item-51\"><a  href=\"https://blog.hackerrank.com/?h_r=home&amp;h_l=footer\"data-event-label=\"footer\"data-event-action=\"Blog\">Blog</a>\\n<ul class=\"sub-menu\">\\n\\t<li id=\"menu-item-52\" class=\"menu-item menu-item-type-custom menu-item-object-custom menu-item-52\"><a  href=\"https://blog.hackerrank.com/category/attract/?h_r=home&amp;h_l=footer\"data-event-label=\"footer\"data-event-action=\"Attract\">Attract</a></li>\\n\\t<li id=\"menu-item-53\" class=\"menu-item menu-item-type-custom menu-item-object-custom menu-item-53\"><a  href=\"https://blog.hackerrank.com/category/assess/?h_r=home&amp;h_l=footer\"data-event-label=\"footer\"data-event-action=\"Assess\">Assess</a></li>\\n\\t<li id=\"menu-item-54\" class=\"menu-item menu-item-type-custom menu-item-object-custom menu-item-54\"><a  href=\"https://blog.hackerrank.com/category/hire/?h_r=home&amp;h_l=footer\"data-event-label=\"footer\"data-event-action=\"Hire\">Hire</a></li>\\n\\t<li id=\"menu-item-56\" class=\"menu-item menu-item-type-custom menu-item-object-custom menu-item-56\"><a  href=\"https://blog.hackerrank.com/category/stories/?h_r=home&amp;h_l=footer\"data-event-label=\"footer\"data-event-action=\"Stories\">Stories</a></li>\\n\\t<li id=\"menu-item-65\" class=\"menu-item-display-large hr__social-icons hr__social-icons--round-colored menu-item menu-item-type-custom menu-item-object-custom menu-item-has-children menu-item-65\"><a  href=\"#\"data-event-label=\"footer\"data-event-action=\"Social Links\">Social Links</a>\\n\\t<ul class=\"sub-menu\">\\n\\t\\t<li id=\"menu-item-6283\" class=\"hr__bg-icon hr__bg-icon--hackerrank-sign menu-item--no-link menu-item menu-item-type-custom menu-item-object-custom menu-item-6283\"><a  href=\"/?h_r=home&amp;h_l=footer\"data-event-label=\"footer\"data-event-action=\"HackerRank\">HackerRank</a></li>\\n\\t\\t<li id=\"menu-item-68\" class=\"hr__bg-icon hr__bg-icon--facebook-round-colored menu-item menu-item-type-custom menu-item-object-custom menu-item-68\"><a  target=\"_blank\" href=\"https://www.facebook.com/hackerrank/\"data-event-label=\"footer\"data-event-action=\"Facebook\">Facebook</a></li>\\n\\t\\t<li id=\"menu-item-66\" class=\"hr__bg-icon hr__bg-icon--linkedin-round-colored menu-item menu-item-type-custom menu-item-object-custom menu-item-66\"><a  target=\"_blank\" href=\"https://www.linkedin.com/company/hackerrank\"data-event-label=\"footer\"data-event-action=\"LinkedIn\">LinkedIn</a></li>\\n\\t\\t<li id=\"menu-item-67\" class=\"hr__bg-icon hr__bg-icon--twitter-round-colored menu-item menu-item-type-custom menu-item-object-custom menu-item-67\"><a  target=\"_blank\" href=\"https://twitter.com/hackerrank\"data-event-label=\"footer\"data-event-action=\"Twitter\">Twitter</a></li>\\n\\t</ul>\\n</li>\\n\\t<li id=\"menu-item-6289\" class=\"menu-item-display-large menu-item--no-link hr__footer-copyright menu-item menu-item-type-custom menu-item-object-custom menu-item-6289\"><a  href=\"#\"data-event-label=\"footer\"data-event-action=\"Copyright © 2019 HackerRank\">Copyright © 2019 HackerRank</a></li>\\n\\t<li id=\"menu-item-6291\" class=\"menu-item-display-large menu-item--smaller menu-item-privacy menu-item menu-item-type-custom menu-item-object-custom menu-item-6291\"><a  href=\"https://www.hackerrank.com/privacy/\"data-event-label=\"footer\"data-event-action=\"Privacy Policy\">Privacy Policy</a></li>\\n</ul>\\n</li>\\n<li id=\"menu-item-813\" class=\"menu-item menu-item-type-post_type menu-item-object-page menu-item-has-children menu-item-813\"><a  href=\"https://www.hackerrank.com/about-us/?h_r=home&amp;h_l=footer\"data-event-label=\"footer\"data-event-action=\"About Us\">About Us</a>\\n<ul class=\"sub-menu\">\\n\\t<li id=\"menu-item-814\" class=\"menu-item menu-item-type-post_type menu-item-object-page menu-item-814\"><a  href=\"https://www.hackerrank.com/about-us/?h_r=home&amp;h_l=footer\"data-event-label=\"footer\"data-event-action=\"Company\">Company</a></li>\\n\\t<li id=\"menu-item-736\" class=\"menu-item menu-item-type-post_type menu-item-object-page menu-item-736\"><a  href=\"https://www.hackerrank.com/careers/?h_r=home&amp;h_l=footer\"data-event-label=\"footer\"data-event-action=\"Careers\">Careers</a></li>\\n\\t<li id=\"menu-item-60\" class=\"menu-item menu-item-type-custom menu-item-object-custom menu-item-60\"><a  href=\"/about-us/our-team/?h_r=home&amp;h_l=footer\"data-event-label=\"footer\"data-event-action=\"Our Team\">Our Team</a></li>\\n\\t<li id=\"menu-item-6284\" class=\"menu-item-display-mobile hr__social-icons hr__social-icons--round-colored menu-item menu-item-type-custom menu-item-object-custom menu-item-has-children menu-item-6284\"><a  href=\"#\"data-event-label=\"footer\"data-event-action=\"Social Links\">Social Links</a>\\n\\t<ul class=\"sub-menu\">\\n\\t\\t<li id=\"menu-item-6285\" class=\"hr__bg-icon hr__bg-icon--hackerrank-sign menu-item--no-link menu-item menu-item-type-custom menu-item-object-custom menu-item-6285\"><a  href=\"/?h_r=home&amp;h_l=footer\"data-event-label=\"footer\"data-event-action=\"HackerRank\">HackerRank</a></li>\\n\\t\\t<li id=\"menu-item-6286\" class=\"hr__bg-icon hr__bg-icon--facebook-round-colored menu-item menu-item-type-custom menu-item-object-custom menu-item-6286\"><a  target=\"_blank\" href=\"https://www.facebook.com/hackerrank/\"data-event-label=\"footer\"data-event-action=\"Facebook\">Facebook</a></li>\\n\\t\\t<li id=\"menu-item-6287\" class=\"hr__bg-icon hr__bg-icon--linkedin-round-colored menu-item menu-item-type-custom menu-item-object-custom menu-item-6287\"><a  target=\"_blank\" href=\"https://www.linkedin.com/company/hackerrank\"data-event-label=\"footer\"data-event-action=\"LinkedIn\">LinkedIn</a></li>\\n\\t\\t<li id=\"menu-item-6288\" class=\"hr__bg-icon hr__bg-icon--twitter-round-colored menu-item menu-item-type-custom menu-item-object-custom menu-item-6288\"><a  target=\"_blank\" href=\"https://twitter.com/hackerrank\"data-event-label=\"footer\"data-event-action=\"Twitter\">Twitter</a></li>\\n\\t</ul>\\n</li>\\n\\t<li id=\"menu-item-6290\" class=\"menu-item-display-mobile menu-item--no-link hr__footer-copyright menu-item menu-item-type-custom menu-item-object-custom menu-item-6290\"><a  href=\"#\"data-event-label=\"footer\"data-event-action=\"Copyright © 2019 HackerRank\">Copyright © 2019 HackerRank</a></li>\\n\\t<li id=\"menu-item-3765\" class=\"menu-item-display-mobile menu-item--smaller menu-item-privacy menu-item menu-item-type-custom menu-item-object-custom menu-item-3765\"><a  href=\"https://www.hackerrank.com/privacy/?h_r=home&amp;h_l=footer\"data-event-label=\"footer\"data-event-action=\"Privacy Policy\">Privacy Policy</a></li>\\n</ul>\\n</li>\\n</ul></div>            </div>\\n        </footer><!-- #colophon -->\\n\\n    </div><!-- #page -->\\n        <!-- Some Black Magic for Internet Explorer -->\\n\\n        <!--[if lt IE 10]>\\n        <script src=\"https://hrcdn.net/hackerrank/assets/jquery-plugins/jQuery.XDomainRequest-28488b2668d975b95331be79582a53fc.js\"></script>\\n        <![endif]-->\\n\\n        <!--[if lt IE 9]>\\n        <script src=\"https://cdnjs.cloudflare.com/ajax/libs/html5shiv/3.6/html5shiv.min.js\" type=\"text/javascript\"></script>\\n        <![endif]-->\\n\\n        <!-- Chrome Frame for IE6 -->\\n        <!--[if lt IE 7 ]>\\n        <script src=\"https://ajax.googleapis.com/ajax/libs/chrome-frame/1.0.2/CFInstall.min.js\"></script><script>window.attachEvent(\"onload\",function(){CFInstall.check({mode:\"overlay\"})})</script>\\n        <![endif]-->\\n\\n        <!--[if lte IE 9]>\\n        <script>\\n            IE_BROWSER = true\\n        </script>\\n        <![endif]-->\\n\\n\\n        \\n        \\n            \\n                        \\n        \\n        <link rel=\\'stylesheet\\' id=\\'fl-builder-google-fonts-e2c2ff4b1dd0d68641c1c0f34453ebe1-css\\'  href=\\'//fonts.googleapis.com/css?family=Open+Sans%3A600&#038;ver=5.2.4\\' type=\\'text/css\\' media=\\'all\\' />\\n<script type=\\'text/javascript\\' src=\\'https://www.hackerrank.com/wp-content/uploads/bb-plugin/cache/71-layout.js?ver=f1027f1e3521b7a68a68de1a7ac6bf2b\\'></script>\\n<script type=\\'text/javascript\\' src=\\'https://www.hackerrank.com/wp-content/themes/hackerrank/js/navigation.js?ver=1574294169\\'></script>\\n<script type=\\'text/javascript\\'>\\ndocument.documentElement.className += (window.self == window.top ? \"\" : \"hr--framed\");\\n</script>\\n<script type=\\'text/javascript\\' src=\\'https://www.hackerrank.com/wp-content/themes/hackerrank/js/imagesloaded.min.js?ver=1574294169\\'></script>\\n<script type=\\'text/javascript\\' src=\\'https://cdnjs.cloudflare.com/ajax/libs/Swiper/4.3.5/js/swiper.min.js?ver=201512123\\'></script>\\n<script type=\\'text/javascript\\' src=\\'https://www.hackerrank.com/wp-content/themes/hackerrank/js/parsley/dist/parsley.min.js?ver=1574294169\\'></script>\\n<script type=\\'text/javascript\\' src=\\'https://www.hackerrank.com/wp-content/themes/hackerrank/js/parsley/src/extra/validator/words.js?ver=1574294169\\'></script>\\n<script type=\\'text/javascript\\' src=\\'https://www.hackerrank.com/wp-content/themes/hackerrank/js/eventtracking.js?ver=1574294169\\'></script>\\n<script type=\\'text/javascript\\'>\\n/* <![CDATA[ */\\nvar adminAjax = {\"url\":\"https:\\\\/\\\\/www.hackerrank.com\\\\/wp-admin\\\\/admin-ajax.php\"};\\n/* ]]> */\\n</script>\\n<script type=\\'text/javascript\\' src=\\'https://www.hackerrank.com/wp-content/themes/hackerrank/js/custom.js?ver=1574294169\\'></script>\\n<script type=\\'text/javascript\\' src=\\'https://www.hackerrank.com/wp-content/themes/hackerrank/js/skip-link-focus-fix.js?ver=1574294169\\'></script>\\n<script type=\\'text/javascript\\' src=\\'https://www.hackerrank.com/wp-includes/js/wp-embed.min.js?ver=5.2.4\\'></script>\\n<script type=\\'text/javascript\\' src=\\'https://www.hackerrank.com/wp-content/themes/hackerrank/js/cookieconsent.js?ver=5.2.4\\'></script>\\n<script type=\\'text/javascript\\'>\\n                window.addEventListener(\"load\", function(){\\n                    window.cookieconsent.initialise({\\n                        cookie: {\\n                            name: \\'show_cookie_banner\\',\\n                            domain: \\'hackerrank.com\\'\\n                        },\\n                        content: {\\n                            message: \\'We use cookies to ensure you have the best browsing experience on our website. Please read our <a aria-label=\"learn more about cookies\" tabindex=\"0\" class=\"cc-link\" href=\"https://www.hackerrank.com/privacy#cookies\" target=\"_blank\">cookie policy</a> for more information about how we use cookies.\\',\\n                            messagelink: \\'<span id=\"cookieconsent:desc\" class=\"cc-message\">{{message}} <a aria-label=\"learn more about cookies\" tabindex=\"0\" class=\"cc-link\" href=\"{{href}}\" target=\"_blank\">{{link}}</a></span>\\',\\n                            link: \\'Find out more.\\',\\n                            allow: \\'Ok\\',\\n                            href: \\'https://www.hackerrank.com/privacy#cookies\\',\\n                            target: \\'_blank\\'\\n                        },\\n                        elements: {\\n                            allow:\\n                                \\'<a aria-label=\"allow cookies\" role=button tabindex=\"0\"  class=\"cc-btn cc-false\">{{allow}}</a>\\'\\n                        },\\n                        layout: \\'hr__cn-layouts\\',\\n                        layouts: {\\n                            \\'hr__cn-layouts\\': \\'<div class=\"hr__cookie_notification\"> {{messagelink}}{{compliance}} </div>\\',\\n                        },\\n                        type: \\'opt-in\\'\\n                    })});\\n</script>\\n<!-- tracking hrutm_ parameters -->\\r\\n<script type=\"text/javascript\">\\r\\n(function(){\\r\\n  var sPageURL = window.location.search.substring(1);\\r\\n  var sURLVariables = sPageURL.split(\\'&\\');\\r\\n  var trackingData;\\r\\n  for(var i = 0; i < sURLVariables.length; i++) {\\r\\n    var sParameterName = sURLVariables[i].split(\\'=\\');\\r\\n    if(sParameterName[0] == \\'utm_source\\') {\\r\\n      trackingData = decodeURIComponent(escape(sParameterName[1]));\\r\\n      hr_metrics.track(trackingData.event_name, trackingData)\\r\\n    } else if (sParameterName[0] == \\'ad-campaign\\' && sParameterName[1]==\\'Mkt1010415\\') {\\r\\n      if(typeof HR !== \"undefined\" && HR !== null && (!HR.PREFETCH_DATA.profile || !HR.PREFETCH_DATA.profile.created_at)){\\r\\n        document.cookie = \"fb_ad_campaign_source=\"+sParameterName[1]+\";path=/\";\\r\\n      }\\r\\n    }\\r\\n  }\\r\\n})();\\r\\n</script><!-- All Event Tracking -->\\r\\n<script type=\"text/javascript\">\\r\\nif (jsCookies.get(\"hackerrank_mixpanel_token\")) {\\r\\n  mixpanel.identify(jsCookies.get(\"hackerrank_mixpanel_token\"));\\r\\n} else {\\r\\n   jQuery(document).ready(function($){\\r\\n     $.get(\"https://\" + window.location.hostname + \"/prefetch_data\", function(data) {\\r\\n         mixpanel.identify(jsCookies.get(\"hackerrank_mixpanel_token\"));\\r\\n     });\\r\\n   });\\r\\n}\\r\\n\\r\\njQuery(document).ready(function($){\\r\\n  hr_metrics.track(\"PageLoad\", window.location.pathname, {});\\r\\n  $(document).on(\\'click\\', \\'a\\', null, function(e) {\\r\\n      src = $(e.currentTarget);\\r\\n      action = \\'Click\\'; \\r\\n      if (src.attr(\\'data-analytics\\')) {\\r\\n          data = src.attr(\\'data-analytics\\');\\r\\n      } else {\\r\\n          tagname = src.prop(\"tagName\").toUpperCase();\\r\\n          if (tagname == \"A\") {\\r\\n            data = $.trim(src.text());\\r\\n          }\\r\\n          else {\\r\\n            return;\\r\\n          }\\r\\n      }\\r\\n\\r\\n      hr_metrics.track(action, data, (function() {\\r\\n        var params={};\\r\\n        for (var _i=1; _i<=11; ++_i){\\r\\n          var _attr = \\'data-attr\\'+_i;\\r\\n          if (src.attr(_attr)){\\r\\n            params[\\'attribute\\'+_i] = src.attr(_attr);\\r\\n        }}\\r\\n        return params;\\r\\n      })());\\r\\n      // google analytics\\r\\n      //_gaq.push([\\'_trackEvent\\', \\'Events\\' , action, data])\\r\\n  });\\r\\n});\\r\\n</script><script type=\"text/javascript\">\\r\\nhr_metrics.track(\"HomePage\", \"master\", {attribute1: \"master\", attribute2: \"/\", attribute3: window.document.referrer});\\r\\n</script></body>\\n</html>'"
      ]
     },
     "execution_count": 17,
     "metadata": {},
     "output_type": "execute_result"
    }
   ],
   "source": [
    "res.text"
   ]
  },
  {
   "cell_type": "code",
   "execution_count": 18,
   "metadata": {},
   "outputs": [
    {
     "data": {
      "text/plain": [
       "200"
      ]
     },
     "execution_count": 18,
     "metadata": {},
     "output_type": "execute_result"
    }
   ],
   "source": [
    "res.status_code"
   ]
  },
  {
   "cell_type": "markdown",
   "metadata": {},
   "source": [
    "## New request"
   ]
  },
  {
   "cell_type": "code",
   "execution_count": 19,
   "metadata": {},
   "outputs": [],
   "source": [
    "import requests"
   ]
  },
  {
   "cell_type": "code",
   "execution_count": 21,
   "metadata": {},
   "outputs": [
    {
     "data": {
      "text/plain": [
       "200"
      ]
     },
     "execution_count": 21,
     "metadata": {},
     "output_type": "execute_result"
    }
   ],
   "source": [
    "url = \"https://icanhazdadjoke.com/\"\n",
    "res = requests.get(url)\n",
    "res.status_code"
   ]
  },
  {
   "cell_type": "code",
   "execution_count": 22,
   "metadata": {},
   "outputs": [
    {
     "name": "stdout",
     "output_type": "stream",
     "text": [
      "<!DOCTYPE html>\n",
      "<html lang=\"en\">\n",
      "<head>\n",
      "<meta charset=\"utf-8\">\n",
      "<meta http-equiv=\"X-UA-Compatible\" content=\"IE=edge\">\n",
      "<meta name=\"viewport\" content=\"width=device-width, initial-scale=1, minimum-scale=1\">\n",
      "<meta name=\"description\" content=\"The largest collection of dad jokes on the internet\" />\n",
      "<meta name=\"author\" content=\"C653 Labs\" />\n",
      "<meta name=\"keywords\" content=\"dad,joke,funny,slack,alexa\" />\n",
      "<meta property=\"og:site_name\" content=\"icanhazdadjoke\" />\n",
      "<meta property=\"og:title\" content=\"icanhazdadjoke\" />\n",
      "<meta property=\"og:type\" content=\"website\" />\n",
      "<meta property=\"og:url\" content=\"https://icanhazdadjoke.com/j/PmyXSfxHBd\" />\n",
      "<meta property=\"og:description\" content=\"Did you know crocodiles could grow up to 15 feet? But most just have 4.\" />\n",
      "<meta property=\"og:image:url\" content=\"https://icanhazdadjoke.com/j/PmyXSfxHBd.png\" />\n",
      "<meta property=\"og:image:secure_url\" content=\"https://icanhazdadjoke.com/j/PmyXSfxHBd.png\" />\n",
      "<meta property=\"og:image:secure_url\" content=\"https://icanhazdadjoke.com/static/smile.png\" />\n",
      "<meta property=\"og:image:type\" content=\"image/png\" />\n",
      "<meta name=\"twitter:card\" content=\"summary\">\n",
      "<meta name=\"twitter:site\" content=\"@icanhazdadjoke\">\n",
      "<meta name=\"twitter:title\" content=\"icanhzdadjoke\">\n",
      "<meta name=\"twitter:description\" content=\"Did you know crocodiles could grow up to 15 feet? But most just have 4.\">\n",
      "<meta name=\"twitter:image\" content=\"https://icanhazdadjoke.com/static/smile.png\">\n",
      "<meta name=\"twitter:url\" content=\"https://icanhazdadjoke.com/j/PmyXSfxHBd\" />\n",
      "<link rel=\"canonical\" href=\"https://icanhazdadjoke.com/j/PmyXSfxHBd\">\n",
      "<link rel=\"amphtml\" href=\"https://icanhazdadjoke.com/j/PmyXSfxHBd/amp\">\n",
      "<title>icanhazdadjoke</title>\n",
      "<link rel=\"apple-touch-icon\" sizes=\"180x180\" href=\"/static/apple-touch-icon.png\">\n",
      "<link rel=\"icon\" type=\"image/png\" href=\"/static/favicon-32x32.png\" sizes=\"32x32\">\n",
      "<link rel=\"icon\" type=\"image/png\" href=\"/static/favicon-16x16.png\" sizes=\"16x16\">\n",
      "<link rel=\"manifest\" href=\"/static/manifest.json\">\n",
      "<link rel=\"mask-icon\" href=\"/static/safari-pinned-tab.svg\" color=\"#1fc8db\">\n",
      "<link rel=\"shortcut icon\" href=\"/static/favicon.ico\">\n",
      "<meta name=\"msapplication-config\" content=\"/static/browserconfig.xml\">\n",
      "<meta name=\"theme-color\" content=\"#ffffff\">\n",
      "<link rel=\"stylesheet\" href=\"/static/dist/style.css?55f4ea12\">\n",
      "<script type=\"application/ld+json\">\n",
      "      {\n",
      "        \"@context\": \"http://schema.org\",\n",
      "        \"@type\": \"WebSite\",\n",
      "        \"url\": \"https://icanhazdadjoke.com/\",\n",
      "        \"name\": \"icanhazdadjoke\",\n",
      "        \"description\": \"The largest collection of dad jokes on the internet\",\n",
      "        \"potentialAction\": {\n",
      "          \"@type\": \"SearchAction\",\n",
      "          \"target\": \"https://icanhazdadjoke.com/search?term={search_term_string}\",\n",
      "          \"query-input\": \"required name=search_term_string\"\n",
      "        }\n",
      "      }\n",
      "    </script>\n",
      "<script type=\"application/ld+json\">\n",
      "      {\n",
      "        \"@context\": \"http://schema.org\",\n",
      "        \"@type\": \"Organization\",\n",
      "        \"url\": \"https://icanhazdadjoke.com/\",\n",
      "        \"logo\": \"https://icanhazdadjoke.com/static/smile.png\",\n",
      "        \"name\": \"icanhazdadjoke\",\n",
      "        \"description\": \"The largest collection of dad jokes on the internet\",\n",
      "        \"email\": \"support@icanhazdadjoke.com\"\n",
      "      }\n",
      "    </script>\n",
      "<script async src=\"//pagead2.googlesyndication.com/pagead/js/adsbygoogle.js\"></script>\n",
      "<script>\n",
      "      (adsbygoogle = window.adsbygoogle || []).push({google_ad_client: \"ca-pub-3200991035275362\", enable_page_level_ads: true});\n",
      "    </script>\n",
      "</head>\n",
      "<body>\n",
      "<nav class=\"nav has-shadow\">\n",
      "<div class=\"container\">\n",
      "<div class=\"nav-left\">\n",
      "<a class=\"nav-item is-brand\" href=\"/\">\n",
      "<img src=\"/static/smile.svg\" alt=\"icanhazdadjoke logo\" />\n",
      "<span class=\"subtitle pushhalf--left\">\n",
      "icanhazdadjoke\n",
      "</span>\n",
      "</a>\n",
      "</div>\n",
      "<span id=\"nav-toggle\" class=\"nav-toggle\">\n",
      "<span></span>\n",
      "<span></span>\n",
      "<span></span>\n",
      "</span>\n",
      "<div id=\"nav-menu\" class=\"nav-right nav-menu\">\n",
      "<a class=\"nav-item is-tab\" href=\"/\">\n",
      "<span class=\"icon is-small\">\n",
      "<i class=\"fa fa-random\"></i>\n",
      "</span>\n",
      "<span class=\"pushquarter--left\">\n",
      "Random joke\n",
      "</span>\n",
      "</a>\n",
      "<a class=\"nav-item is-tab\" href=\"/search\">\n",
      "<span class=\"icon is-small\">\n",
      "<i class=\"fa fa-search\"></i>\n",
      "</span>\n",
      "<span class=\"pushquarter--left\">\n",
      "Search jokes\n",
      "</span>\n",
      "</a>\n",
      "<a class=\"nav-item is-tab\" href=\"/submit\">\n",
      "<span class=\"icon is-small\">\n",
      "<i class=\"fa fa-pencil-square-o\"></i>\n",
      "</span>\n",
      "<span class=\"pushquarter--left\">\n",
      "Submit new joke\n",
      "</span>\n",
      "</a>\n",
      "<div class=\"nav-item\">\n",
      "<a href=\"/slack-add\" style=\"height:40px; max-width:139px\">\n",
      "<img alt=\"Add to Slack\" height=\"40\" width=\"139\" src=\"https://platform.slack-edge.com/img/add_to_slack.png\" style=\"width:139px; height:40px; max-height: 40px\" srcset=\"https://platform.slack-edge.com/img/add_to_slack.png 1x, https://platform.slack-edge.com/img/add_to_slack@2x.png 2x\" />\n",
      "</a>\n",
      "</div>\n",
      "<div class=\"nav-item\">\n",
      "<a class=\"button\" target=\"_blank\" href=\"https://www.amazon.com/Brett-Langdon-icanhazdadjoke/dp/B01N6CQ3NZ/\" style=\"background-color: #ffffff; color: #5ebfe4; border-radius: 6px; font-weight: 500; height:40px; width:139px; max-width:139px\">\n",
      "<img src=\"/static/alexa-logo.png\" style=\"margin-left: -0.5em;\">\n",
      "Add to <strong style=\"margin-left: 0.25em\">Alexa</strong>\n",
      "</a>\n",
      "</div>\n",
      "</div>\n",
      "</div>\n",
      "</nav>\n",
      "<section class=\"section\">\n",
      "<div class=\"container\">\n",
      "<div class=\"level\">\n",
      "<div class=\"level-left\">\n",
      "<div class=\"content level-item\">\n",
      "<h1>Random dad joke:</h1>\n",
      "</div>\n",
      "</div>\n",
      "<div class=\"level-right\">\n",
      "<a class=\"button is-primary level-item\" href=\"/\">\n",
      "<span class=\"icon is-small\">\n",
      "<i class=\"fa fa-random\"></i>\n",
      "</span>\n",
      "<span>\n",
      "New joke\n",
      "</span>\n",
      "</a>\n",
      "</div>\n",
      "</div>\n",
      "<div class=\"content\">\n",
      "<div class=\"card\">\n",
      "<div class=\"card-content\">\n",
      "<p class=\"subtitle\">Did you know crocodiles could grow up to 15 feet? But most just have 4.</p>\n",
      "</div>\n",
      "<footer class=\"card-footer\">\n",
      "<a class=\"card-footer-item\" href=\"/j/PmyXSfxHBd\">\n",
      "<span class=\"icon is-small\">\n",
      "<i class=\"fa fa-chain\"></i>\n",
      "</span>\n",
      "<span class=\"pushquarter--left\">\n",
      "Permalink\n",
      "</span>\n",
      "</a>\n",
      "<a class=\"card-footer-item\" target=\"_blank\" href=\"https://twitter.com/intent/tweet?url=https://icanhazdadjoke.com%2Fj%2FPmyXSfxHBd%2Famp&text=Check+out+this+%23dadjoke&via=icanhazdadjoke\">\n",
      "<span class=\"icon is-small\">\n",
      "<i class=\"fa fa-twitter\"></i>\n",
      "</span>\n",
      "<span class=\"pushquarter--left\">\n",
      "Share on Twitter\n",
      "</span>\n",
      "</a>\n",
      "</footer>\n",
      "</div>\n",
      "</div>\n",
      "<div class=\"content pushwhole--top\">\n",
      "<ins class=\"adsbygoogle\" style=\"display:block\" data-ad-client=\"ca-pub-3200991035275362\" data-ad-slot=\"5324903139\" data-ad-format=\"auto\"></ins>\n",
      "</div>\n",
      "<script>\n",
      "          (adsbygoogle = window.adsbygoogle || []).push({});\n",
      "        </script>\n",
      "</div>\n",
      "</section>\n",
      "<footer class=\"footer\">\n",
      "<div class=\"container\">\n",
      "<div class=\"columns\">\n",
      "<div class=\"column is-5\">\n",
      "<div class=\"content\">\n",
      "<p>\n",
      "<strong>icanhazdadjoke.com</strong> by <a href=\"https://c653labs.com/\">C653 Labs</a>.\n",
      "</p>\n",
      "<p>\n",
      "<i>icanhazdadjoke.com</i> is the largest selection of dad jokes on the internet.\n",
      "Now supporting many different integrations to ensure you can access the dad jokes that you need wherever you are.\n",
      "</p>\n",
      "</div>\n",
      "</div>\n",
      "<div class=\"column is-3\"></div>\n",
      "<div class=\"column is-2\">\n",
      "<aside class=\"menu\">\n",
      "<ul class=\"menu-list\">\n",
      "<li><a href=\"/cdn-cgi/l/email-protection#88fbfdf8f8e7fafcc8e1ebe9e6e0e9f2ece9ece2e7e3eda6ebe7e5\" target=\"_blank\">Contact</a></li>\n",
      "<li><a href=\"https://twitter.com/icanhazdadjoke\" target=\"_blank\">Twitter</a></li>\n",
      "<li><a href=\"https://slack.com/apps/A214NCJF2-icanhazdadjoke\" target=\"_blank\">Slack app</a></li>\n",
      "<li><a href=\"https://www.amazon.com/Brett-Langdon-icanhazdadjoke/dp/B01N6CQ3NZ/\" target=\"_blank\">Alexa skill</a></li>\n",
      "<li><a href=\"https://discordapp.com/api/oauth2/authorize?client_id=467365247921946626&permissions=0&scope=bot\" target=\"_blank\">Discord bot</a></li>\n",
      "<li><a href=\"https://marketplace.atlassian.com/plugins/com.icanhazdadjoke/cloud/overview\" target=\"_blank\">HipChat plugin</a></li>\n",
      "<li><a href=\"https://twistapp.com/integrations/install/20_901fa9d3df5b8784d3ddc56e\" target=\"_blank\">Twist integration</a></li>\n",
      "</ul>\n",
      "</aside>\n",
      "</div>\n",
      "<div class=\"column is-2\">\n",
      "<aside class=\"menu\">\n",
      "<ul class=\"menu-list\">\n",
      "<li><a href=\"/about\">About</a></li>\n",
      "<li><a href=\"/api\">API</a></li>\n",
      "<li><a href=\"/\">Random joke</a></li>\n",
      "<li><a href=\"/search\">Search jokes</a></li>\n",
      "<li><a href=\"/submit\">Submit new joke</a></li>\n",
      "</ul>\n",
      "</aside>\n",
      "</div>\n",
      "</div>\n",
      "</div>\n",
      "</footer>\n",
      "<script data-cfasync=\"false\" src=\"/cdn-cgi/scripts/5c5dd728/cloudflare-static/email-decode.min.js\"></script><script>\n",
      "        (function(i,s,o,g,r,a,m){i['GoogleAnalyticsObject']=r;i[r]=i[r]||function(){\n",
      "        (i[r].q=i[r].q||[]).push(arguments)},i[r].l=1*new Date();a=s.createElement(o),\n",
      "        m=s.getElementsByTagName(o)[0];a.async=1;a.src=g;m.parentNode.insertBefore(a,m)\n",
      "        })(window,document,'script','https://www.google-analytics.com/analytics.js','ga');\n",
      "\n",
      "        ga('create', 'UA-82372853-1', 'auto');\n",
      "        ga('send', 'pageview');\n",
      "        </script>\n",
      "<script>\n",
      "      document.addEventListener('click', function (evt) {\n",
      "        if (evt.target.id === 'nav-toggle' || evt.target.parent.id === 'nav-toggle') {\n",
      "          document.getElementById('nav-menu').classList.toggle('is-active');\n",
      "        }\n",
      "      });\n",
      "    </script>\n",
      "\n",
      "<script type=\"text/javascript\">\n",
      "      /* <![CDATA[ */\n",
      "      var google_conversion_id = 855658655;\n",
      "      var google_conversion_language = \"en\";\n",
      "      var google_conversion_format = \"3\";\n",
      "      var google_conversion_color = \"ffffff\";\n",
      "      var google_conversion_label = \"gdOKCMjzmHAQn6GBmAM\";\n",
      "      var google_remarketing_only = false;\n",
      "      /* ]]> */\n",
      "    </script>\n",
      "<script type=\"text/javascript\" src=\"//www.googleadservices.com/pagead/conversion.js\"></script>\n",
      "<noscript>\n",
      "      <div style=\"display:inline;\">\n",
      "        <img height=\"1\" width=\"1\" style=\"border-style:none;\" alt=\"\" src=\"//www.googleadservices.com/pagead/conversion/855658655/?label=gdOKCMjzmHAQn6GBmAM&amp;guid=ON&amp;script=0\"/>\n",
      "      </div>\n",
      "    </noscript>\n",
      "</body>\n",
      "</html>\n"
     ]
    }
   ],
   "source": [
    "print(res.text)"
   ]
  },
  {
   "cell_type": "code",
   "execution_count": 24,
   "metadata": {},
   "outputs": [
    {
     "data": {
      "text/plain": [
       "200"
      ]
     },
     "execution_count": 24,
     "metadata": {},
     "output_type": "execute_result"
    }
   ],
   "source": [
    "url = \"https://icanhazdadjoke.com/\"\n",
    "res = requests.get(url, headers={\"Accept\":  \"text/plain\"})\n",
    "res.status_code"
   ]
  },
  {
   "cell_type": "code",
   "execution_count": 25,
   "metadata": {},
   "outputs": [
    {
     "name": "stdout",
     "output_type": "stream",
     "text": [
      "I thought my wife was joking when she said she'd leave me if I didn't stop signing \"I'm A Believer\"... Then I saw her face.\n"
     ]
    }
   ],
   "source": [
    "print(res.text)"
   ]
  },
  {
   "cell_type": "code",
   "execution_count": 28,
   "metadata": {},
   "outputs": [
    {
     "data": {
      "text/plain": [
       "200"
      ]
     },
     "execution_count": 28,
     "metadata": {},
     "output_type": "execute_result"
    }
   ],
   "source": [
    "url = \"https://icanhazdadjoke.com/\"\n",
    "res = requests.get(url, headers={\"Accept\":  \"application/json\"})\n",
    "res.status_code"
   ]
  },
  {
   "cell_type": "code",
   "execution_count": 29,
   "metadata": {},
   "outputs": [
    {
     "name": "stdout",
     "output_type": "stream",
     "text": [
      "{\"id\":\"HYoGYTvX0g\",\"joke\":\"What is the tallest building in the world? The library \\u2013 it\\u2019s got the most stories!\",\"status\":200}\n",
      "\n"
     ]
    }
   ],
   "source": [
    "print(res.text)"
   ]
  },
  {
   "cell_type": "code",
   "execution_count": 31,
   "metadata": {},
   "outputs": [
    {
     "name": "stdout",
     "output_type": "stream",
     "text": [
      "{'id': 'HYoGYTvX0g', 'joke': 'What is the tallest building in the world? The library – it’s got the most stories!', 'status': 200}\n"
     ]
    }
   ],
   "source": [
    "print(res.json())"
   ]
  },
  {
   "cell_type": "code",
   "execution_count": 33,
   "metadata": {},
   "outputs": [
    {
     "data": {
      "text/plain": [
       "dict"
      ]
     },
     "execution_count": 33,
     "metadata": {},
     "output_type": "execute_result"
    }
   ],
   "source": [
    "data = res.json()\n",
    "type(data)"
   ]
  },
  {
   "cell_type": "code",
   "execution_count": 34,
   "metadata": {},
   "outputs": [
    {
     "data": {
      "text/plain": [
       "{'id': 'HYoGYTvX0g',\n",
       " 'joke': 'What is the tallest building in the world? The library – it’s got the most stories!',\n",
       " 'status': 200}"
      ]
     },
     "execution_count": 34,
     "metadata": {},
     "output_type": "execute_result"
    }
   ],
   "source": [
    "data"
   ]
  },
  {
   "cell_type": "code",
   "execution_count": 38,
   "metadata": {},
   "outputs": [
    {
     "data": {
      "text/plain": [
       "'What is the tallest building in the world? The library – it’s got the most stories!'"
      ]
     },
     "execution_count": 38,
     "metadata": {},
     "output_type": "execute_result"
    }
   ],
   "source": [
    "data[\"joke\"]"
   ]
  },
  {
   "cell_type": "code",
   "execution_count": 41,
   "metadata": {},
   "outputs": [
    {
     "data": {
      "text/plain": [
       "'Why did the burglar hang his mugshot on the wall? To prove that he was framed!'"
      ]
     },
     "execution_count": 41,
     "metadata": {},
     "output_type": "execute_result"
    }
   ],
   "source": [
    "url = \"https://icanhazdadjoke.com/\"\n",
    "res = requests.get(url, headers={\"Accept\":  \"application/json\"})\n",
    "data = res.json()\n",
    "data[\"joke\"]"
   ]
  },
  {
   "cell_type": "code",
   "execution_count": null,
   "metadata": {},
   "outputs": [],
   "source": []
  }
 ],
 "metadata": {
  "kernelspec": {
   "display_name": "Python 3",
   "language": "python",
   "name": "python3"
  },
  "language_info": {
   "codemirror_mode": {
    "name": "ipython",
    "version": 3
   },
   "file_extension": ".py",
   "mimetype": "text/x-python",
   "name": "python",
   "nbconvert_exporter": "python",
   "pygments_lexer": "ipython3",
   "version": "3.7.3"
  }
 },
 "nbformat": 4,
 "nbformat_minor": 4
}
